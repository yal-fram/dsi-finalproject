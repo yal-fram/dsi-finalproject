{
 "cells": [
  {
   "cell_type": "code",
   "execution_count": 3,
   "metadata": {},
   "outputs": [],
   "source": [
    "import numpy as np\n",
    "import pandas as pd\n",
    "import seaborn as sns\n",
    "import matplotlib.pyplot as plt\n",
    "import plotly.express as px\n",
    "\n",
    "from prophet import Prophet\n",
    "\n",
    "import data_preprocessing as dp\n",
    "import geopandas as gpd"
   ]
  },
  {
   "cell_type": "code",
   "execution_count": 4,
   "metadata": {},
   "outputs": [
    {
     "name": "stderr",
     "output_type": "stream",
     "text": [
      "C:\\Users\\dsi\\AppData\\Local\\Temp\\ipykernel_33304\\1466124582.py:6: DtypeWarning: Columns (7,9) have mixed types. Specify dtype option on import or set low_memory=False.\n",
      "  df = pd.read_csv(f\"MVG_Rad_Fahrten_{year}.csv\", sep=\";\", decimal=\",\", parse_dates=[\"STARTTIME       \", \"ENDTIME         \"])\n",
      "C:\\Users\\dsi\\AppData\\Local\\Temp\\ipykernel_33304\\1466124582.py:6: DtypeWarning: Columns (9) have mixed types. Specify dtype option on import or set low_memory=False.\n",
      "  df = pd.read_csv(f\"MVG_Rad_Fahrten_{year}.csv\", sep=\";\", decimal=\",\", parse_dates=[\"STARTTIME       \", \"ENDTIME         \"])\n",
      "C:\\Users\\dsi\\AppData\\Local\\Temp\\ipykernel_33304\\1466124582.py:6: DtypeWarning: Columns (7) have mixed types. Specify dtype option on import or set low_memory=False.\n",
      "  df = pd.read_csv(f\"MVG_Rad_Fahrten_{year}.csv\", sep=\";\", decimal=\",\", parse_dates=[\"STARTTIME       \", \"ENDTIME         \"])\n"
     ]
    }
   ],
   "source": [
    "years = range(2020, 2024)\n",
    "data_list = []\n",
    "\n",
    "# Schleife über jedes Jahr\n",
    "for year in years:\n",
    "    df = pd.read_csv(f\"MVG_Rad_Fahrten_{year}.csv\", sep=\";\", decimal=\",\", parse_dates=[\"STARTTIME       \", \"ENDTIME         \"])\n",
    "    \n",
    "    # Entfernen von Leerzeichen in den Columns\n",
    "    column_names = [dp.remove_space(column) for column in df.columns]\n",
    "    df.columns = column_names\n",
    "\n",
    "    # Hinzufügen des eingelesenen DataFrames zur Liste\n",
    "    data_list.append(df)\n",
    "\n",
    "# alle Daten zu einem einzigen DataFrame kombinieren \n",
    "df = pd.concat(data_list, ignore_index=True)"
   ]
  },
  {
   "cell_type": "markdown",
   "metadata": {},
   "source": [
    "## Data Information"
   ]
  },
  {
   "cell_type": "code",
   "execution_count": 5,
   "metadata": {},
   "outputs": [
    {
     "data": {
      "text/html": [
       "<div>\n",
       "<style scoped>\n",
       "    .dataframe tbody tr th:only-of-type {\n",
       "        vertical-align: middle;\n",
       "    }\n",
       "\n",
       "    .dataframe tbody tr th {\n",
       "        vertical-align: top;\n",
       "    }\n",
       "\n",
       "    .dataframe thead th {\n",
       "        text-align: right;\n",
       "    }\n",
       "</style>\n",
       "<table border=\"1\" class=\"dataframe\">\n",
       "  <thead>\n",
       "    <tr style=\"text-align: right;\">\n",
       "      <th></th>\n",
       "      <th>Row</th>\n",
       "      <th>STARTTIME</th>\n",
       "      <th>ENDTIME</th>\n",
       "      <th>STARTLAT</th>\n",
       "      <th>STARTLON</th>\n",
       "      <th>ENDLAT</th>\n",
       "      <th>ENDLON</th>\n",
       "      <th>RENTAL_IS_STATION</th>\n",
       "      <th>RENTAL_STATION_NAME</th>\n",
       "      <th>RETURN_IS_STATION</th>\n",
       "      <th>RETURN_STATION_NAME</th>\n",
       "    </tr>\n",
       "  </thead>\n",
       "  <tbody>\n",
       "    <tr>\n",
       "      <th>0</th>\n",
       "      <td>1</td>\n",
       "      <td>2020-01-01 00:10:00</td>\n",
       "      <td>2020-01-01 00:21:00</td>\n",
       "      <td>48.16957</td>\n",
       "      <td>11.58736</td>\n",
       "      <td>48.16568</td>\n",
       "      <td>11.56474</td>\n",
       "      <td>0</td>\n",
       "      <td></td>\n",
       "      <td>0</td>\n",
       "      <td></td>\n",
       "    </tr>\n",
       "    <tr>\n",
       "      <th>1</th>\n",
       "      <td>2</td>\n",
       "      <td>2020-01-01 00:14:00</td>\n",
       "      <td>2020-01-01 00:32:00</td>\n",
       "      <td>48.13652</td>\n",
       "      <td>11.5929</td>\n",
       "      <td>48.13502</td>\n",
       "      <td>11.57901</td>\n",
       "      <td>0</td>\n",
       "      <td></td>\n",
       "      <td>0</td>\n",
       "      <td></td>\n",
       "    </tr>\n",
       "    <tr>\n",
       "      <th>2</th>\n",
       "      <td>3</td>\n",
       "      <td>2020-01-01 00:25:00</td>\n",
       "      <td>2020-01-01 00:41:00</td>\n",
       "      <td>48.1706</td>\n",
       "      <td>11.54881</td>\n",
       "      <td>48.16562</td>\n",
       "      <td>11.5648</td>\n",
       "      <td>0</td>\n",
       "      <td></td>\n",
       "      <td>0</td>\n",
       "      <td></td>\n",
       "    </tr>\n",
       "    <tr>\n",
       "      <th>3</th>\n",
       "      <td>4</td>\n",
       "      <td>2020-01-01 00:29:00</td>\n",
       "      <td>2020-01-01 00:43:00</td>\n",
       "      <td>48.17433</td>\n",
       "      <td>11.56033</td>\n",
       "      <td>48.17326</td>\n",
       "      <td>11.59075</td>\n",
       "      <td>0</td>\n",
       "      <td></td>\n",
       "      <td>0</td>\n",
       "      <td></td>\n",
       "    </tr>\n",
       "    <tr>\n",
       "      <th>4</th>\n",
       "      <td>5</td>\n",
       "      <td>2020-01-01 00:29:00</td>\n",
       "      <td>2020-01-01 00:30:00</td>\n",
       "      <td>48.12354</td>\n",
       "      <td>11.53372</td>\n",
       "      <td>48.12374</td>\n",
       "      <td>11.53319</td>\n",
       "      <td>0</td>\n",
       "      <td></td>\n",
       "      <td>0</td>\n",
       "      <td></td>\n",
       "    </tr>\n",
       "  </tbody>\n",
       "</table>\n",
       "</div>"
      ],
      "text/plain": [
       "   Row           STARTTIME             ENDTIME  STARTLAT  STARTLON    ENDLAT  \\\n",
       "0    1 2020-01-01 00:10:00 2020-01-01 00:21:00  48.16957  11.58736  48.16568   \n",
       "1    2 2020-01-01 00:14:00 2020-01-01 00:32:00  48.13652   11.5929  48.13502   \n",
       "2    3 2020-01-01 00:25:00 2020-01-01 00:41:00   48.1706  11.54881  48.16562   \n",
       "3    4 2020-01-01 00:29:00 2020-01-01 00:43:00  48.17433  11.56033  48.17326   \n",
       "4    5 2020-01-01 00:29:00 2020-01-01 00:30:00  48.12354  11.53372  48.12374   \n",
       "\n",
       "     ENDLON RENTAL_IS_STATION                           RENTAL_STATION_NAME  \\\n",
       "0  11.56474                 0                                                 \n",
       "1  11.57901                 0                                                 \n",
       "2   11.5648                 0                                                 \n",
       "3  11.59075                 0                                                 \n",
       "4  11.53319                 0                                                 \n",
       "\n",
       "  RETURN_IS_STATION                           RETURN_STATION_NAME  \n",
       "0                 0                                                \n",
       "1                 0                                                \n",
       "2                 0                                                \n",
       "3                 0                                                \n",
       "4                 0                                                "
      ]
     },
     "execution_count": 5,
     "metadata": {},
     "output_type": "execute_result"
    }
   ],
   "source": [
    "df.head()"
   ]
  },
  {
   "cell_type": "code",
   "execution_count": 6,
   "metadata": {},
   "outputs": [
    {
     "data": {
      "text/plain": [
       "Index(['Row', 'STARTTIME', 'ENDTIME', 'STARTLAT', 'STARTLON', 'ENDLAT',\n",
       "       'ENDLON', 'RENTAL_IS_STATION', 'RENTAL_STATION_NAME',\n",
       "       'RETURN_IS_STATION', 'RETURN_STATION_NAME'],\n",
       "      dtype='object')"
      ]
     },
     "execution_count": 6,
     "metadata": {},
     "output_type": "execute_result"
    }
   ],
   "source": [
    "df.columns"
   ]
  },
  {
   "cell_type": "code",
   "execution_count": 7,
   "metadata": {},
   "outputs": [
    {
     "name": "stdout",
     "output_type": "stream",
     "text": [
      "<class 'pandas.core.frame.DataFrame'>\n",
      "RangeIndex: 2760575 entries, 0 to 2760574\n",
      "Data columns (total 11 columns):\n",
      " #   Column               Dtype         \n",
      "---  ------               -----         \n",
      " 0   Row                  int64         \n",
      " 1   STARTTIME            datetime64[ns]\n",
      " 2   ENDTIME              datetime64[ns]\n",
      " 3   STARTLAT             object        \n",
      " 4   STARTLON             object        \n",
      " 5   ENDLAT               object        \n",
      " 6   ENDLON               object        \n",
      " 7   RENTAL_IS_STATION    object        \n",
      " 8   RENTAL_STATION_NAME  object        \n",
      " 9   RETURN_IS_STATION    object        \n",
      " 10  RETURN_STATION_NAME  object        \n",
      "dtypes: datetime64[ns](2), int64(1), object(8)\n",
      "memory usage: 231.7+ MB\n"
     ]
    }
   ],
   "source": [
    "df.info()"
   ]
  },
  {
   "cell_type": "markdown",
   "metadata": {},
   "source": [
    "## Data Feintuning"
   ]
  },
  {
   "cell_type": "markdown",
   "metadata": {},
   "source": [
    "### Entfernen von Leerzeichen"
   ]
  },
  {
   "cell_type": "code",
   "execution_count": 8,
   "metadata": {},
   "outputs": [],
   "source": [
    "# Entfernen von Leerzeichen bei Stationsnamen\n",
    "df[\"RENTAL_STATION_NAME\"] = df[\"RENTAL_STATION_NAME\"].apply(dp.remove_space)\n",
    "df[\"RETURN_STATION_NAME\"] = df[\"RETURN_STATION_NAME\"].apply(dp.remove_space)"
   ]
  },
  {
   "cell_type": "markdown",
   "metadata": {},
   "source": [
    "### Formatieren von Daten als Datetime"
   ]
  },
  {
   "cell_type": "code",
   "execution_count": 9,
   "metadata": {},
   "outputs": [],
   "source": [
    "# STARTTIME und ENDTIME als datetime\n",
    "df = dp.to_datetime(df)"
   ]
  },
  {
   "cell_type": "markdown",
   "metadata": {},
   "source": [
    "### Löschen unnötiger Spalten"
   ]
  },
  {
   "cell_type": "code",
   "execution_count": 10,
   "metadata": {},
   "outputs": [],
   "source": [
    "# Löschen von \"Row\"\n",
    "df = df.drop(\"Row\", axis=1)"
   ]
  },
  {
   "cell_type": "markdown",
   "metadata": {},
   "source": [
    "### Optimierung der Koordinaten"
   ]
  },
  {
   "cell_type": "code",
   "execution_count": 11,
   "metadata": {},
   "outputs": [],
   "source": [
    "# Formatierung der Koordinaten\n",
    "# Entfernung ungültiger Daten\n",
    "df = dp.handle_coordinates(df)"
   ]
  },
  {
   "cell_type": "markdown",
   "metadata": {},
   "source": [
    "### Optimierung der Spalten IS_STATION"
   ]
  },
  {
   "cell_type": "code",
   "execution_count": 12,
   "metadata": {},
   "outputs": [
    {
     "name": "stdout",
     "output_type": "stream",
     "text": [
      "Formatierung nicht möglich, setze Wert auf NA: NULL             \n",
      "Formatierung nicht möglich, setze Wert auf NA: NULL             \n",
      "Formatierung nicht möglich, setze Wert auf NA: NULL             \n",
      "Formatierung nicht möglich, setze Wert auf NA: NULL             \n",
      "Formatierung nicht möglich, setze Wert auf NA: NULL             \n",
      "Formatierung nicht möglich, setze Wert auf NA: NULL             \n",
      "Formatierung nicht möglich, setze Wert auf NA: NULL             \n",
      "Formatierung nicht möglich, setze Wert auf NA: NULL             \n",
      "Formatierung nicht möglich, setze Wert auf NA: NULL             \n",
      "Formatierung nicht möglich, setze Wert auf NA: NULL             \n"
     ]
    }
   ],
   "source": [
    "# Formatierung von is_station\n",
    "df = dp.handle_is_station(df)\n",
    "# Befüllen von is_station, je nachdem, ob Station Name vorhanden\n",
    "df = dp.fill_is_station_values(df)"
   ]
  },
  {
   "cell_type": "markdown",
   "metadata": {},
   "source": [
    "## Erneute Überprüfung"
   ]
  },
  {
   "cell_type": "code",
   "execution_count": 13,
   "metadata": {},
   "outputs": [
    {
     "name": "stdout",
     "output_type": "stream",
     "text": [
      "<class 'pandas.core.frame.DataFrame'>\n",
      "RangeIndex: 2760575 entries, 0 to 2760574\n",
      "Data columns (total 10 columns):\n",
      " #   Column               Dtype         \n",
      "---  ------               -----         \n",
      " 0   STARTTIME            datetime64[ns]\n",
      " 1   ENDTIME              datetime64[ns]\n",
      " 2   STARTLAT             float64       \n",
      " 3   STARTLON             float64       \n",
      " 4   ENDLAT               float64       \n",
      " 5   ENDLON               float64       \n",
      " 6   RENTAL_IS_STATION    Int64         \n",
      " 7   RENTAL_STATION_NAME  object        \n",
      " 8   RETURN_IS_STATION    Int64         \n",
      " 9   RETURN_STATION_NAME  object        \n",
      "dtypes: Int64(2), datetime64[ns](2), float64(4), object(2)\n",
      "memory usage: 215.9+ MB\n"
     ]
    }
   ],
   "source": [
    "df.info()"
   ]
  },
  {
   "cell_type": "code",
   "execution_count": 14,
   "metadata": {},
   "outputs": [
    {
     "name": "stdout",
     "output_type": "stream",
     "text": [
      "Anzahl NA-Werte in STARTTIME: 0\n",
      "Anzahl NA-Werte in ENDTIME: 0\n",
      "Anzahl NA-Werte in STARTLAT: 19671\n",
      "Anzahl NA-Werte in STARTLON: 19649\n",
      "Anzahl NA-Werte in ENDLAT: 24819\n",
      "Anzahl NA-Werte in ENDLON: 24799\n",
      "Anzahl NA-Werte in RENTAL_IS_STATION: 0\n",
      "Anzahl NA-Werte in RENTAL_STATION_NAME: 0\n",
      "Anzahl NA-Werte in RETURN_IS_STATION: 0\n",
      "Anzahl NA-Werte in RETURN_STATION_NAME: 0\n"
     ]
    }
   ],
   "source": [
    "for column in df.columns:\n",
    "    print(f\"Anzahl NA-Werte in {column}: {df[column].isna().sum()}\")"
   ]
  },
  {
   "cell_type": "markdown",
   "metadata": {},
   "source": [
    "## Ergänzung einer Spalte für die Dauer einer Fahrt"
   ]
  },
  {
   "cell_type": "code",
   "execution_count": 15,
   "metadata": {},
   "outputs": [],
   "source": [
    "# Hinzufügen einer Spalte für die Dauer\n",
    "df[\"DURATION\"] = df[\"ENDTIME\"] - df[\"STARTTIME\"]\n",
    "\n",
    "# Entfernen von ungültigen Datenpunkten\n",
    "df = dp.remove_invalid_datetime(df)\n"
   ]
  },
  {
   "cell_type": "markdown",
   "metadata": {},
   "source": [
    "## Entfernen aller Zeilen mit NAN-Werten, Sicherung des ursprünglichen DataFrames"
   ]
  },
  {
   "cell_type": "code",
   "execution_count": 16,
   "metadata": {},
   "outputs": [],
   "source": [
    "# Achtung: Zu welchem Zeitpunkt soll dies hier geschehen?\n",
    "\n",
    "df_with_NA_coordinates = df.copy()\n",
    "df = df.dropna()"
   ]
  },
  {
   "cell_type": "markdown",
   "metadata": {},
   "source": [
    "## Zeitreihenanalyse (mit Plotly & Prophet)\n",
    "#Wie viele Fahrten Täglich für MVG Rad?"
   ]
  },
  {
   "cell_type": "code",
   "execution_count": null,
   "metadata": {},
   "outputs": [],
   "source": [
    "!pip install prophet"
   ]
  },
  {
   "cell_type": "code",
   "execution_count": 17,
   "metadata": {},
   "outputs": [
    {
     "data": {
      "text/html": [
       "<div>\n",
       "<style scoped>\n",
       "    .dataframe tbody tr th:only-of-type {\n",
       "        vertical-align: middle;\n",
       "    }\n",
       "\n",
       "    .dataframe tbody tr th {\n",
       "        vertical-align: top;\n",
       "    }\n",
       "\n",
       "    .dataframe thead th {\n",
       "        text-align: right;\n",
       "    }\n",
       "</style>\n",
       "<table border=\"1\" class=\"dataframe\">\n",
       "  <thead>\n",
       "    <tr style=\"text-align: right;\">\n",
       "      <th></th>\n",
       "      <th>STARTTIME</th>\n",
       "      <th>ENDTIME</th>\n",
       "      <th>STARTLAT</th>\n",
       "      <th>STARTLON</th>\n",
       "      <th>ENDLAT</th>\n",
       "      <th>ENDLON</th>\n",
       "      <th>RENTAL_IS_STATION</th>\n",
       "      <th>RENTAL_STATION_NAME</th>\n",
       "      <th>RETURN_IS_STATION</th>\n",
       "      <th>RETURN_STATION_NAME</th>\n",
       "      <th>DURATION</th>\n",
       "    </tr>\n",
       "  </thead>\n",
       "  <tbody>\n",
       "    <tr>\n",
       "      <th>0</th>\n",
       "      <td>2020-01-01 00:10:00</td>\n",
       "      <td>2020-01-01 00:21:00</td>\n",
       "      <td>48.16957</td>\n",
       "      <td>11.58736</td>\n",
       "      <td>48.16568</td>\n",
       "      <td>11.56474</td>\n",
       "      <td>0</td>\n",
       "      <td></td>\n",
       "      <td>0</td>\n",
       "      <td></td>\n",
       "      <td>0 days 00:11:00</td>\n",
       "    </tr>\n",
       "    <tr>\n",
       "      <th>1</th>\n",
       "      <td>2020-01-01 00:14:00</td>\n",
       "      <td>2020-01-01 00:32:00</td>\n",
       "      <td>48.13652</td>\n",
       "      <td>11.59290</td>\n",
       "      <td>48.13502</td>\n",
       "      <td>11.57901</td>\n",
       "      <td>0</td>\n",
       "      <td></td>\n",
       "      <td>0</td>\n",
       "      <td></td>\n",
       "      <td>0 days 00:18:00</td>\n",
       "    </tr>\n",
       "    <tr>\n",
       "      <th>2</th>\n",
       "      <td>2020-01-01 00:25:00</td>\n",
       "      <td>2020-01-01 00:41:00</td>\n",
       "      <td>48.17060</td>\n",
       "      <td>11.54881</td>\n",
       "      <td>48.16562</td>\n",
       "      <td>11.56480</td>\n",
       "      <td>0</td>\n",
       "      <td></td>\n",
       "      <td>0</td>\n",
       "      <td></td>\n",
       "      <td>0 days 00:16:00</td>\n",
       "    </tr>\n",
       "    <tr>\n",
       "      <th>3</th>\n",
       "      <td>2020-01-01 00:29:00</td>\n",
       "      <td>2020-01-01 00:43:00</td>\n",
       "      <td>48.17433</td>\n",
       "      <td>11.56033</td>\n",
       "      <td>48.17326</td>\n",
       "      <td>11.59075</td>\n",
       "      <td>0</td>\n",
       "      <td></td>\n",
       "      <td>0</td>\n",
       "      <td></td>\n",
       "      <td>0 days 00:14:00</td>\n",
       "    </tr>\n",
       "    <tr>\n",
       "      <th>4</th>\n",
       "      <td>2020-01-01 00:29:00</td>\n",
       "      <td>2020-01-01 00:30:00</td>\n",
       "      <td>48.12354</td>\n",
       "      <td>11.53372</td>\n",
       "      <td>48.12374</td>\n",
       "      <td>11.53319</td>\n",
       "      <td>0</td>\n",
       "      <td></td>\n",
       "      <td>0</td>\n",
       "      <td></td>\n",
       "      <td>0 days 00:01:00</td>\n",
       "    </tr>\n",
       "    <tr>\n",
       "      <th>...</th>\n",
       "      <td>...</td>\n",
       "      <td>...</td>\n",
       "      <td>...</td>\n",
       "      <td>...</td>\n",
       "      <td>...</td>\n",
       "      <td>...</td>\n",
       "      <td>...</td>\n",
       "      <td>...</td>\n",
       "      <td>...</td>\n",
       "      <td>...</td>\n",
       "      <td>...</td>\n",
       "    </tr>\n",
       "    <tr>\n",
       "      <th>2760570</th>\n",
       "      <td>2023-12-31 23:52:00</td>\n",
       "      <td>2023-12-31 23:57:00</td>\n",
       "      <td>48.16719</td>\n",
       "      <td>11.55854</td>\n",
       "      <td>48.16917</td>\n",
       "      <td>11.55547</td>\n",
       "      <td>0</td>\n",
       "      <td></td>\n",
       "      <td>0</td>\n",
       "      <td></td>\n",
       "      <td>0 days 00:05:00</td>\n",
       "    </tr>\n",
       "    <tr>\n",
       "      <th>2760571</th>\n",
       "      <td>2023-12-31 23:52:00</td>\n",
       "      <td>2024-01-01 00:07:00</td>\n",
       "      <td>48.17061</td>\n",
       "      <td>11.57391</td>\n",
       "      <td>48.17334</td>\n",
       "      <td>11.55952</td>\n",
       "      <td>0</td>\n",
       "      <td></td>\n",
       "      <td>0</td>\n",
       "      <td></td>\n",
       "      <td>0 days 00:15:00</td>\n",
       "    </tr>\n",
       "    <tr>\n",
       "      <th>2760572</th>\n",
       "      <td>2023-12-31 23:53:00</td>\n",
       "      <td>2023-12-31 23:57:00</td>\n",
       "      <td>48.14131</td>\n",
       "      <td>11.56144</td>\n",
       "      <td>48.14094</td>\n",
       "      <td>11.56044</td>\n",
       "      <td>0</td>\n",
       "      <td></td>\n",
       "      <td>0</td>\n",
       "      <td></td>\n",
       "      <td>0 days 00:04:00</td>\n",
       "    </tr>\n",
       "    <tr>\n",
       "      <th>2760573</th>\n",
       "      <td>2023-12-31 23:54:00</td>\n",
       "      <td>2023-12-31 23:59:00</td>\n",
       "      <td>48.12353</td>\n",
       "      <td>11.54494</td>\n",
       "      <td>48.12674</td>\n",
       "      <td>11.54758</td>\n",
       "      <td>0</td>\n",
       "      <td></td>\n",
       "      <td>0</td>\n",
       "      <td></td>\n",
       "      <td>0 days 00:05:00</td>\n",
       "    </tr>\n",
       "    <tr>\n",
       "      <th>2760574</th>\n",
       "      <td>2023-12-31 23:54:00</td>\n",
       "      <td>2024-01-01 00:06:00</td>\n",
       "      <td>48.12376</td>\n",
       "      <td>11.54871</td>\n",
       "      <td>48.12376</td>\n",
       "      <td>11.54871</td>\n",
       "      <td>1</td>\n",
       "      <td>Kreisverwaltungsreferat</td>\n",
       "      <td>1</td>\n",
       "      <td>Kreisverwaltungsreferat</td>\n",
       "      <td>0 days 00:12:00</td>\n",
       "    </tr>\n",
       "  </tbody>\n",
       "</table>\n",
       "<p>2717505 rows × 11 columns</p>\n",
       "</div>"
      ],
      "text/plain": [
       "                  STARTTIME             ENDTIME  STARTLAT  STARTLON    ENDLAT  \\\n",
       "0       2020-01-01 00:10:00 2020-01-01 00:21:00  48.16957  11.58736  48.16568   \n",
       "1       2020-01-01 00:14:00 2020-01-01 00:32:00  48.13652  11.59290  48.13502   \n",
       "2       2020-01-01 00:25:00 2020-01-01 00:41:00  48.17060  11.54881  48.16562   \n",
       "3       2020-01-01 00:29:00 2020-01-01 00:43:00  48.17433  11.56033  48.17326   \n",
       "4       2020-01-01 00:29:00 2020-01-01 00:30:00  48.12354  11.53372  48.12374   \n",
       "...                     ...                 ...       ...       ...       ...   \n",
       "2760570 2023-12-31 23:52:00 2023-12-31 23:57:00  48.16719  11.55854  48.16917   \n",
       "2760571 2023-12-31 23:52:00 2024-01-01 00:07:00  48.17061  11.57391  48.17334   \n",
       "2760572 2023-12-31 23:53:00 2023-12-31 23:57:00  48.14131  11.56144  48.14094   \n",
       "2760573 2023-12-31 23:54:00 2023-12-31 23:59:00  48.12353  11.54494  48.12674   \n",
       "2760574 2023-12-31 23:54:00 2024-01-01 00:06:00  48.12376  11.54871  48.12376   \n",
       "\n",
       "           ENDLON  RENTAL_IS_STATION      RENTAL_STATION_NAME  \\\n",
       "0        11.56474                  0                            \n",
       "1        11.57901                  0                            \n",
       "2        11.56480                  0                            \n",
       "3        11.59075                  0                            \n",
       "4        11.53319                  0                            \n",
       "...           ...                ...                      ...   \n",
       "2760570  11.55547                  0                            \n",
       "2760571  11.55952                  0                            \n",
       "2760572  11.56044                  0                            \n",
       "2760573  11.54758                  0                            \n",
       "2760574  11.54871                  1  Kreisverwaltungsreferat   \n",
       "\n",
       "         RETURN_IS_STATION      RETURN_STATION_NAME        DURATION  \n",
       "0                        0                          0 days 00:11:00  \n",
       "1                        0                          0 days 00:18:00  \n",
       "2                        0                          0 days 00:16:00  \n",
       "3                        0                          0 days 00:14:00  \n",
       "4                        0                          0 days 00:01:00  \n",
       "...                    ...                      ...             ...  \n",
       "2760570                  0                          0 days 00:05:00  \n",
       "2760571                  0                          0 days 00:15:00  \n",
       "2760572                  0                          0 days 00:04:00  \n",
       "2760573                  0                          0 days 00:05:00  \n",
       "2760574                  1  Kreisverwaltungsreferat 0 days 00:12:00  \n",
       "\n",
       "[2717505 rows x 11 columns]"
      ]
     },
     "execution_count": 17,
     "metadata": {},
     "output_type": "execute_result"
    }
   ],
   "source": [
    "df"
   ]
  },
  {
   "cell_type": "markdown",
   "metadata": {},
   "source": [
    "## Ergänzung einer Spalte für die Dauer einer Fahrt in Min"
   ]
  },
  {
   "cell_type": "code",
   "execution_count": 22,
   "metadata": {},
   "outputs": [
    {
     "data": {
      "text/html": [
       "<div>\n",
       "<style scoped>\n",
       "    .dataframe tbody tr th:only-of-type {\n",
       "        vertical-align: middle;\n",
       "    }\n",
       "\n",
       "    .dataframe tbody tr th {\n",
       "        vertical-align: top;\n",
       "    }\n",
       "\n",
       "    .dataframe thead th {\n",
       "        text-align: right;\n",
       "    }\n",
       "</style>\n",
       "<table border=\"1\" class=\"dataframe\">\n",
       "  <thead>\n",
       "    <tr style=\"text-align: right;\">\n",
       "      <th></th>\n",
       "      <th>STARTTIME</th>\n",
       "      <th>ENDTIME</th>\n",
       "      <th>STARTLAT</th>\n",
       "      <th>STARTLON</th>\n",
       "      <th>ENDLAT</th>\n",
       "      <th>ENDLON</th>\n",
       "      <th>RENTAL_IS_STATION</th>\n",
       "      <th>RENTAL_STATION_NAME</th>\n",
       "      <th>RETURN_IS_STATION</th>\n",
       "      <th>RETURN_STATION_NAME</th>\n",
       "      <th>DURATION</th>\n",
       "      <th>DURATION_MIN</th>\n",
       "    </tr>\n",
       "  </thead>\n",
       "  <tbody>\n",
       "    <tr>\n",
       "      <th>0</th>\n",
       "      <td>2020-01-01 00:10:00</td>\n",
       "      <td>2020-01-01 00:21:00</td>\n",
       "      <td>48.16957</td>\n",
       "      <td>11.58736</td>\n",
       "      <td>48.16568</td>\n",
       "      <td>11.56474</td>\n",
       "      <td>0</td>\n",
       "      <td></td>\n",
       "      <td>0</td>\n",
       "      <td></td>\n",
       "      <td>0 days 00:11:00</td>\n",
       "      <td>11.0</td>\n",
       "    </tr>\n",
       "    <tr>\n",
       "      <th>1</th>\n",
       "      <td>2020-01-01 00:14:00</td>\n",
       "      <td>2020-01-01 00:32:00</td>\n",
       "      <td>48.13652</td>\n",
       "      <td>11.59290</td>\n",
       "      <td>48.13502</td>\n",
       "      <td>11.57901</td>\n",
       "      <td>0</td>\n",
       "      <td></td>\n",
       "      <td>0</td>\n",
       "      <td></td>\n",
       "      <td>0 days 00:18:00</td>\n",
       "      <td>18.0</td>\n",
       "    </tr>\n",
       "    <tr>\n",
       "      <th>2</th>\n",
       "      <td>2020-01-01 00:25:00</td>\n",
       "      <td>2020-01-01 00:41:00</td>\n",
       "      <td>48.17060</td>\n",
       "      <td>11.54881</td>\n",
       "      <td>48.16562</td>\n",
       "      <td>11.56480</td>\n",
       "      <td>0</td>\n",
       "      <td></td>\n",
       "      <td>0</td>\n",
       "      <td></td>\n",
       "      <td>0 days 00:16:00</td>\n",
       "      <td>16.0</td>\n",
       "    </tr>\n",
       "    <tr>\n",
       "      <th>3</th>\n",
       "      <td>2020-01-01 00:29:00</td>\n",
       "      <td>2020-01-01 00:43:00</td>\n",
       "      <td>48.17433</td>\n",
       "      <td>11.56033</td>\n",
       "      <td>48.17326</td>\n",
       "      <td>11.59075</td>\n",
       "      <td>0</td>\n",
       "      <td></td>\n",
       "      <td>0</td>\n",
       "      <td></td>\n",
       "      <td>0 days 00:14:00</td>\n",
       "      <td>14.0</td>\n",
       "    </tr>\n",
       "    <tr>\n",
       "      <th>4</th>\n",
       "      <td>2020-01-01 00:29:00</td>\n",
       "      <td>2020-01-01 00:30:00</td>\n",
       "      <td>48.12354</td>\n",
       "      <td>11.53372</td>\n",
       "      <td>48.12374</td>\n",
       "      <td>11.53319</td>\n",
       "      <td>0</td>\n",
       "      <td></td>\n",
       "      <td>0</td>\n",
       "      <td></td>\n",
       "      <td>0 days 00:01:00</td>\n",
       "      <td>1.0</td>\n",
       "    </tr>\n",
       "    <tr>\n",
       "      <th>...</th>\n",
       "      <td>...</td>\n",
       "      <td>...</td>\n",
       "      <td>...</td>\n",
       "      <td>...</td>\n",
       "      <td>...</td>\n",
       "      <td>...</td>\n",
       "      <td>...</td>\n",
       "      <td>...</td>\n",
       "      <td>...</td>\n",
       "      <td>...</td>\n",
       "      <td>...</td>\n",
       "      <td>...</td>\n",
       "    </tr>\n",
       "    <tr>\n",
       "      <th>2760570</th>\n",
       "      <td>2023-12-31 23:52:00</td>\n",
       "      <td>2023-12-31 23:57:00</td>\n",
       "      <td>48.16719</td>\n",
       "      <td>11.55854</td>\n",
       "      <td>48.16917</td>\n",
       "      <td>11.55547</td>\n",
       "      <td>0</td>\n",
       "      <td></td>\n",
       "      <td>0</td>\n",
       "      <td></td>\n",
       "      <td>0 days 00:05:00</td>\n",
       "      <td>5.0</td>\n",
       "    </tr>\n",
       "    <tr>\n",
       "      <th>2760571</th>\n",
       "      <td>2023-12-31 23:52:00</td>\n",
       "      <td>2024-01-01 00:07:00</td>\n",
       "      <td>48.17061</td>\n",
       "      <td>11.57391</td>\n",
       "      <td>48.17334</td>\n",
       "      <td>11.55952</td>\n",
       "      <td>0</td>\n",
       "      <td></td>\n",
       "      <td>0</td>\n",
       "      <td></td>\n",
       "      <td>0 days 00:15:00</td>\n",
       "      <td>15.0</td>\n",
       "    </tr>\n",
       "    <tr>\n",
       "      <th>2760572</th>\n",
       "      <td>2023-12-31 23:53:00</td>\n",
       "      <td>2023-12-31 23:57:00</td>\n",
       "      <td>48.14131</td>\n",
       "      <td>11.56144</td>\n",
       "      <td>48.14094</td>\n",
       "      <td>11.56044</td>\n",
       "      <td>0</td>\n",
       "      <td></td>\n",
       "      <td>0</td>\n",
       "      <td></td>\n",
       "      <td>0 days 00:04:00</td>\n",
       "      <td>4.0</td>\n",
       "    </tr>\n",
       "    <tr>\n",
       "      <th>2760573</th>\n",
       "      <td>2023-12-31 23:54:00</td>\n",
       "      <td>2023-12-31 23:59:00</td>\n",
       "      <td>48.12353</td>\n",
       "      <td>11.54494</td>\n",
       "      <td>48.12674</td>\n",
       "      <td>11.54758</td>\n",
       "      <td>0</td>\n",
       "      <td></td>\n",
       "      <td>0</td>\n",
       "      <td></td>\n",
       "      <td>0 days 00:05:00</td>\n",
       "      <td>5.0</td>\n",
       "    </tr>\n",
       "    <tr>\n",
       "      <th>2760574</th>\n",
       "      <td>2023-12-31 23:54:00</td>\n",
       "      <td>2024-01-01 00:06:00</td>\n",
       "      <td>48.12376</td>\n",
       "      <td>11.54871</td>\n",
       "      <td>48.12376</td>\n",
       "      <td>11.54871</td>\n",
       "      <td>1</td>\n",
       "      <td>Kreisverwaltungsreferat</td>\n",
       "      <td>1</td>\n",
       "      <td>Kreisverwaltungsreferat</td>\n",
       "      <td>0 days 00:12:00</td>\n",
       "      <td>12.0</td>\n",
       "    </tr>\n",
       "  </tbody>\n",
       "</table>\n",
       "<p>2717505 rows × 12 columns</p>\n",
       "</div>"
      ],
      "text/plain": [
       "                  STARTTIME             ENDTIME  STARTLAT  STARTLON    ENDLAT  \\\n",
       "0       2020-01-01 00:10:00 2020-01-01 00:21:00  48.16957  11.58736  48.16568   \n",
       "1       2020-01-01 00:14:00 2020-01-01 00:32:00  48.13652  11.59290  48.13502   \n",
       "2       2020-01-01 00:25:00 2020-01-01 00:41:00  48.17060  11.54881  48.16562   \n",
       "3       2020-01-01 00:29:00 2020-01-01 00:43:00  48.17433  11.56033  48.17326   \n",
       "4       2020-01-01 00:29:00 2020-01-01 00:30:00  48.12354  11.53372  48.12374   \n",
       "...                     ...                 ...       ...       ...       ...   \n",
       "2760570 2023-12-31 23:52:00 2023-12-31 23:57:00  48.16719  11.55854  48.16917   \n",
       "2760571 2023-12-31 23:52:00 2024-01-01 00:07:00  48.17061  11.57391  48.17334   \n",
       "2760572 2023-12-31 23:53:00 2023-12-31 23:57:00  48.14131  11.56144  48.14094   \n",
       "2760573 2023-12-31 23:54:00 2023-12-31 23:59:00  48.12353  11.54494  48.12674   \n",
       "2760574 2023-12-31 23:54:00 2024-01-01 00:06:00  48.12376  11.54871  48.12376   \n",
       "\n",
       "           ENDLON  RENTAL_IS_STATION      RENTAL_STATION_NAME  \\\n",
       "0        11.56474                  0                            \n",
       "1        11.57901                  0                            \n",
       "2        11.56480                  0                            \n",
       "3        11.59075                  0                            \n",
       "4        11.53319                  0                            \n",
       "...           ...                ...                      ...   \n",
       "2760570  11.55547                  0                            \n",
       "2760571  11.55952                  0                            \n",
       "2760572  11.56044                  0                            \n",
       "2760573  11.54758                  0                            \n",
       "2760574  11.54871                  1  Kreisverwaltungsreferat   \n",
       "\n",
       "         RETURN_IS_STATION      RETURN_STATION_NAME        DURATION  \\\n",
       "0                        0                          0 days 00:11:00   \n",
       "1                        0                          0 days 00:18:00   \n",
       "2                        0                          0 days 00:16:00   \n",
       "3                        0                          0 days 00:14:00   \n",
       "4                        0                          0 days 00:01:00   \n",
       "...                    ...                      ...             ...   \n",
       "2760570                  0                          0 days 00:05:00   \n",
       "2760571                  0                          0 days 00:15:00   \n",
       "2760572                  0                          0 days 00:04:00   \n",
       "2760573                  0                          0 days 00:05:00   \n",
       "2760574                  1  Kreisverwaltungsreferat 0 days 00:12:00   \n",
       "\n",
       "         DURATION_MIN  \n",
       "0                11.0  \n",
       "1                18.0  \n",
       "2                16.0  \n",
       "3                14.0  \n",
       "4                 1.0  \n",
       "...               ...  \n",
       "2760570           5.0  \n",
       "2760571          15.0  \n",
       "2760572           4.0  \n",
       "2760573           5.0  \n",
       "2760574          12.0  \n",
       "\n",
       "[2717505 rows x 12 columns]"
      ]
     },
     "execution_count": 22,
     "metadata": {},
     "output_type": "execute_result"
    }
   ],
   "source": [
    "df['DURATION_MIN'] = np.round((df['DURATION']).dt.total_seconds() / 60)\n",
    "df"
   ]
  },
  {
   "cell_type": "markdown",
   "metadata": {},
   "source": [
    "## Extrahieren von DATE / MIN / HOUR"
   ]
  },
  {
   "cell_type": "code",
   "execution_count": 24,
   "metadata": {},
   "outputs": [
    {
     "data": {
      "text/html": [
       "<div>\n",
       "<style scoped>\n",
       "    .dataframe tbody tr th:only-of-type {\n",
       "        vertical-align: middle;\n",
       "    }\n",
       "\n",
       "    .dataframe tbody tr th {\n",
       "        vertical-align: top;\n",
       "    }\n",
       "\n",
       "    .dataframe thead th {\n",
       "        text-align: right;\n",
       "    }\n",
       "</style>\n",
       "<table border=\"1\" class=\"dataframe\">\n",
       "  <thead>\n",
       "    <tr style=\"text-align: right;\">\n",
       "      <th></th>\n",
       "      <th>STARTTIME</th>\n",
       "      <th>ENDTIME</th>\n",
       "      <th>STARTLAT</th>\n",
       "      <th>STARTLON</th>\n",
       "      <th>ENDLAT</th>\n",
       "      <th>ENDLON</th>\n",
       "      <th>RENTAL_IS_STATION</th>\n",
       "      <th>RENTAL_STATION_NAME</th>\n",
       "      <th>RETURN_IS_STATION</th>\n",
       "      <th>RETURN_STATION_NAME</th>\n",
       "      <th>DURATION</th>\n",
       "      <th>DURATION_MIN</th>\n",
       "      <th>DATE</th>\n",
       "      <th>MIN</th>\n",
       "      <th>HOUR</th>\n",
       "      <th>WEEKDAY</th>\n",
       "    </tr>\n",
       "  </thead>\n",
       "  <tbody>\n",
       "    <tr>\n",
       "      <th>0</th>\n",
       "      <td>2020-01-01 00:10:00</td>\n",
       "      <td>2020-01-01 00:21:00</td>\n",
       "      <td>48.16957</td>\n",
       "      <td>11.58736</td>\n",
       "      <td>48.16568</td>\n",
       "      <td>11.56474</td>\n",
       "      <td>0</td>\n",
       "      <td></td>\n",
       "      <td>0</td>\n",
       "      <td></td>\n",
       "      <td>0 days 00:11:00</td>\n",
       "      <td>11.0</td>\n",
       "      <td>2020-01-01</td>\n",
       "      <td>10</td>\n",
       "      <td>0</td>\n",
       "      <td>&lt;bound method PandasDelegate._add_delegate_acc...</td>\n",
       "    </tr>\n",
       "    <tr>\n",
       "      <th>1</th>\n",
       "      <td>2020-01-01 00:14:00</td>\n",
       "      <td>2020-01-01 00:32:00</td>\n",
       "      <td>48.13652</td>\n",
       "      <td>11.59290</td>\n",
       "      <td>48.13502</td>\n",
       "      <td>11.57901</td>\n",
       "      <td>0</td>\n",
       "      <td></td>\n",
       "      <td>0</td>\n",
       "      <td></td>\n",
       "      <td>0 days 00:18:00</td>\n",
       "      <td>18.0</td>\n",
       "      <td>2020-01-01</td>\n",
       "      <td>14</td>\n",
       "      <td>0</td>\n",
       "      <td>&lt;bound method PandasDelegate._add_delegate_acc...</td>\n",
       "    </tr>\n",
       "    <tr>\n",
       "      <th>2</th>\n",
       "      <td>2020-01-01 00:25:00</td>\n",
       "      <td>2020-01-01 00:41:00</td>\n",
       "      <td>48.17060</td>\n",
       "      <td>11.54881</td>\n",
       "      <td>48.16562</td>\n",
       "      <td>11.56480</td>\n",
       "      <td>0</td>\n",
       "      <td></td>\n",
       "      <td>0</td>\n",
       "      <td></td>\n",
       "      <td>0 days 00:16:00</td>\n",
       "      <td>16.0</td>\n",
       "      <td>2020-01-01</td>\n",
       "      <td>25</td>\n",
       "      <td>0</td>\n",
       "      <td>&lt;bound method PandasDelegate._add_delegate_acc...</td>\n",
       "    </tr>\n",
       "    <tr>\n",
       "      <th>3</th>\n",
       "      <td>2020-01-01 00:29:00</td>\n",
       "      <td>2020-01-01 00:43:00</td>\n",
       "      <td>48.17433</td>\n",
       "      <td>11.56033</td>\n",
       "      <td>48.17326</td>\n",
       "      <td>11.59075</td>\n",
       "      <td>0</td>\n",
       "      <td></td>\n",
       "      <td>0</td>\n",
       "      <td></td>\n",
       "      <td>0 days 00:14:00</td>\n",
       "      <td>14.0</td>\n",
       "      <td>2020-01-01</td>\n",
       "      <td>29</td>\n",
       "      <td>0</td>\n",
       "      <td>&lt;bound method PandasDelegate._add_delegate_acc...</td>\n",
       "    </tr>\n",
       "    <tr>\n",
       "      <th>4</th>\n",
       "      <td>2020-01-01 00:29:00</td>\n",
       "      <td>2020-01-01 00:30:00</td>\n",
       "      <td>48.12354</td>\n",
       "      <td>11.53372</td>\n",
       "      <td>48.12374</td>\n",
       "      <td>11.53319</td>\n",
       "      <td>0</td>\n",
       "      <td></td>\n",
       "      <td>0</td>\n",
       "      <td></td>\n",
       "      <td>0 days 00:01:00</td>\n",
       "      <td>1.0</td>\n",
       "      <td>2020-01-01</td>\n",
       "      <td>29</td>\n",
       "      <td>0</td>\n",
       "      <td>&lt;bound method PandasDelegate._add_delegate_acc...</td>\n",
       "    </tr>\n",
       "    <tr>\n",
       "      <th>...</th>\n",
       "      <td>...</td>\n",
       "      <td>...</td>\n",
       "      <td>...</td>\n",
       "      <td>...</td>\n",
       "      <td>...</td>\n",
       "      <td>...</td>\n",
       "      <td>...</td>\n",
       "      <td>...</td>\n",
       "      <td>...</td>\n",
       "      <td>...</td>\n",
       "      <td>...</td>\n",
       "      <td>...</td>\n",
       "      <td>...</td>\n",
       "      <td>...</td>\n",
       "      <td>...</td>\n",
       "      <td>...</td>\n",
       "    </tr>\n",
       "    <tr>\n",
       "      <th>2760570</th>\n",
       "      <td>2023-12-31 23:52:00</td>\n",
       "      <td>2023-12-31 23:57:00</td>\n",
       "      <td>48.16719</td>\n",
       "      <td>11.55854</td>\n",
       "      <td>48.16917</td>\n",
       "      <td>11.55547</td>\n",
       "      <td>0</td>\n",
       "      <td></td>\n",
       "      <td>0</td>\n",
       "      <td></td>\n",
       "      <td>0 days 00:05:00</td>\n",
       "      <td>5.0</td>\n",
       "      <td>2023-12-31</td>\n",
       "      <td>52</td>\n",
       "      <td>23</td>\n",
       "      <td>&lt;bound method PandasDelegate._add_delegate_acc...</td>\n",
       "    </tr>\n",
       "    <tr>\n",
       "      <th>2760571</th>\n",
       "      <td>2023-12-31 23:52:00</td>\n",
       "      <td>2024-01-01 00:07:00</td>\n",
       "      <td>48.17061</td>\n",
       "      <td>11.57391</td>\n",
       "      <td>48.17334</td>\n",
       "      <td>11.55952</td>\n",
       "      <td>0</td>\n",
       "      <td></td>\n",
       "      <td>0</td>\n",
       "      <td></td>\n",
       "      <td>0 days 00:15:00</td>\n",
       "      <td>15.0</td>\n",
       "      <td>2023-12-31</td>\n",
       "      <td>52</td>\n",
       "      <td>23</td>\n",
       "      <td>&lt;bound method PandasDelegate._add_delegate_acc...</td>\n",
       "    </tr>\n",
       "    <tr>\n",
       "      <th>2760572</th>\n",
       "      <td>2023-12-31 23:53:00</td>\n",
       "      <td>2023-12-31 23:57:00</td>\n",
       "      <td>48.14131</td>\n",
       "      <td>11.56144</td>\n",
       "      <td>48.14094</td>\n",
       "      <td>11.56044</td>\n",
       "      <td>0</td>\n",
       "      <td></td>\n",
       "      <td>0</td>\n",
       "      <td></td>\n",
       "      <td>0 days 00:04:00</td>\n",
       "      <td>4.0</td>\n",
       "      <td>2023-12-31</td>\n",
       "      <td>53</td>\n",
       "      <td>23</td>\n",
       "      <td>&lt;bound method PandasDelegate._add_delegate_acc...</td>\n",
       "    </tr>\n",
       "    <tr>\n",
       "      <th>2760573</th>\n",
       "      <td>2023-12-31 23:54:00</td>\n",
       "      <td>2023-12-31 23:59:00</td>\n",
       "      <td>48.12353</td>\n",
       "      <td>11.54494</td>\n",
       "      <td>48.12674</td>\n",
       "      <td>11.54758</td>\n",
       "      <td>0</td>\n",
       "      <td></td>\n",
       "      <td>0</td>\n",
       "      <td></td>\n",
       "      <td>0 days 00:05:00</td>\n",
       "      <td>5.0</td>\n",
       "      <td>2023-12-31</td>\n",
       "      <td>54</td>\n",
       "      <td>23</td>\n",
       "      <td>&lt;bound method PandasDelegate._add_delegate_acc...</td>\n",
       "    </tr>\n",
       "    <tr>\n",
       "      <th>2760574</th>\n",
       "      <td>2023-12-31 23:54:00</td>\n",
       "      <td>2024-01-01 00:06:00</td>\n",
       "      <td>48.12376</td>\n",
       "      <td>11.54871</td>\n",
       "      <td>48.12376</td>\n",
       "      <td>11.54871</td>\n",
       "      <td>1</td>\n",
       "      <td>Kreisverwaltungsreferat</td>\n",
       "      <td>1</td>\n",
       "      <td>Kreisverwaltungsreferat</td>\n",
       "      <td>0 days 00:12:00</td>\n",
       "      <td>12.0</td>\n",
       "      <td>2023-12-31</td>\n",
       "      <td>54</td>\n",
       "      <td>23</td>\n",
       "      <td>&lt;bound method PandasDelegate._add_delegate_acc...</td>\n",
       "    </tr>\n",
       "  </tbody>\n",
       "</table>\n",
       "<p>2717505 rows × 16 columns</p>\n",
       "</div>"
      ],
      "text/plain": [
       "                  STARTTIME             ENDTIME  STARTLAT  STARTLON    ENDLAT  \\\n",
       "0       2020-01-01 00:10:00 2020-01-01 00:21:00  48.16957  11.58736  48.16568   \n",
       "1       2020-01-01 00:14:00 2020-01-01 00:32:00  48.13652  11.59290  48.13502   \n",
       "2       2020-01-01 00:25:00 2020-01-01 00:41:00  48.17060  11.54881  48.16562   \n",
       "3       2020-01-01 00:29:00 2020-01-01 00:43:00  48.17433  11.56033  48.17326   \n",
       "4       2020-01-01 00:29:00 2020-01-01 00:30:00  48.12354  11.53372  48.12374   \n",
       "...                     ...                 ...       ...       ...       ...   \n",
       "2760570 2023-12-31 23:52:00 2023-12-31 23:57:00  48.16719  11.55854  48.16917   \n",
       "2760571 2023-12-31 23:52:00 2024-01-01 00:07:00  48.17061  11.57391  48.17334   \n",
       "2760572 2023-12-31 23:53:00 2023-12-31 23:57:00  48.14131  11.56144  48.14094   \n",
       "2760573 2023-12-31 23:54:00 2023-12-31 23:59:00  48.12353  11.54494  48.12674   \n",
       "2760574 2023-12-31 23:54:00 2024-01-01 00:06:00  48.12376  11.54871  48.12376   \n",
       "\n",
       "           ENDLON  RENTAL_IS_STATION      RENTAL_STATION_NAME  \\\n",
       "0        11.56474                  0                            \n",
       "1        11.57901                  0                            \n",
       "2        11.56480                  0                            \n",
       "3        11.59075                  0                            \n",
       "4        11.53319                  0                            \n",
       "...           ...                ...                      ...   \n",
       "2760570  11.55547                  0                            \n",
       "2760571  11.55952                  0                            \n",
       "2760572  11.56044                  0                            \n",
       "2760573  11.54758                  0                            \n",
       "2760574  11.54871                  1  Kreisverwaltungsreferat   \n",
       "\n",
       "         RETURN_IS_STATION      RETURN_STATION_NAME        DURATION  \\\n",
       "0                        0                          0 days 00:11:00   \n",
       "1                        0                          0 days 00:18:00   \n",
       "2                        0                          0 days 00:16:00   \n",
       "3                        0                          0 days 00:14:00   \n",
       "4                        0                          0 days 00:01:00   \n",
       "...                    ...                      ...             ...   \n",
       "2760570                  0                          0 days 00:05:00   \n",
       "2760571                  0                          0 days 00:15:00   \n",
       "2760572                  0                          0 days 00:04:00   \n",
       "2760573                  0                          0 days 00:05:00   \n",
       "2760574                  1  Kreisverwaltungsreferat 0 days 00:12:00   \n",
       "\n",
       "         DURATION_MIN        DATE  MIN  HOUR  \\\n",
       "0                11.0  2020-01-01   10     0   \n",
       "1                18.0  2020-01-01   14     0   \n",
       "2                16.0  2020-01-01   25     0   \n",
       "3                14.0  2020-01-01   29     0   \n",
       "4                 1.0  2020-01-01   29     0   \n",
       "...               ...         ...  ...   ...   \n",
       "2760570           5.0  2023-12-31   52    23   \n",
       "2760571          15.0  2023-12-31   52    23   \n",
       "2760572           4.0  2023-12-31   53    23   \n",
       "2760573           5.0  2023-12-31   54    23   \n",
       "2760574          12.0  2023-12-31   54    23   \n",
       "\n",
       "                                                   WEEKDAY  \n",
       "0        <bound method PandasDelegate._add_delegate_acc...  \n",
       "1        <bound method PandasDelegate._add_delegate_acc...  \n",
       "2        <bound method PandasDelegate._add_delegate_acc...  \n",
       "3        <bound method PandasDelegate._add_delegate_acc...  \n",
       "4        <bound method PandasDelegate._add_delegate_acc...  \n",
       "...                                                    ...  \n",
       "2760570  <bound method PandasDelegate._add_delegate_acc...  \n",
       "2760571  <bound method PandasDelegate._add_delegate_acc...  \n",
       "2760572  <bound method PandasDelegate._add_delegate_acc...  \n",
       "2760573  <bound method PandasDelegate._add_delegate_acc...  \n",
       "2760574  <bound method PandasDelegate._add_delegate_acc...  \n",
       "\n",
       "[2717505 rows x 16 columns]"
      ]
     },
     "execution_count": 24,
     "metadata": {},
     "output_type": "execute_result"
    }
   ],
   "source": [
    "#df ['DATE'] <- ['STARTTIME'] - Datum/Stunde/Wochentag extrahieren\n",
    "df['DATE'] = df['STARTTIME'].dt.date #Datum extrahieren\n",
    "df['MIN'] = df['STARTTIME'].dt.minute #Minute extrahieren\n",
    "df['HOUR'] = df['STARTTIME'].dt.hour #Stunde extrahieren\n",
    "df['WEEKDAY'] = df['STARTTIME'].dt.day_name #Wochentag extrahieren - Fehler?!\n",
    "\n",
    "df"
   ]
  },
  {
   "cell_type": "markdown",
   "metadata": {},
   "source": [
    "## Fahrten pro Tag / pro Stunde"
   ]
  },
  {
   "cell_type": "code",
   "execution_count": 27,
   "metadata": {},
   "outputs": [
    {
     "name": "stdout",
     "output_type": "stream",
     "text": [
      "            DATE  DAILY_COUNTS\n",
      "0     2020-01-01           597\n",
      "1     2020-01-02           680\n",
      "2     2020-01-03           750\n",
      "3     2020-01-04           562\n",
      "4     2020-01-05           583\n",
      "...          ...           ...\n",
      "1456  2023-12-27           542\n",
      "1457  2023-12-28           706\n",
      "1458  2023-12-29           851\n",
      "1459  2023-12-30           784\n",
      "1460  2023-12-31           672\n",
      "\n",
      "[1461 rows x 2 columns]\n",
      "                                              WEEKDAY  HOUR  HOURLY_COUNTS\n",
      "0   <bound method PandasDelegate._add_delegate_acc...     0          46518\n",
      "1   <bound method PandasDelegate._add_delegate_acc...     1          37872\n",
      "2   <bound method PandasDelegate._add_delegate_acc...     2          26546\n",
      "3   <bound method PandasDelegate._add_delegate_acc...     3          16795\n",
      "4   <bound method PandasDelegate._add_delegate_acc...     4          10826\n",
      "5   <bound method PandasDelegate._add_delegate_acc...     5          11753\n",
      "6   <bound method PandasDelegate._add_delegate_acc...     6          27904\n",
      "7   <bound method PandasDelegate._add_delegate_acc...     7          83628\n",
      "8   <bound method PandasDelegate._add_delegate_acc...     8         152216\n",
      "9   <bound method PandasDelegate._add_delegate_acc...     9         115339\n",
      "10  <bound method PandasDelegate._add_delegate_acc...    10         101692\n",
      "11  <bound method PandasDelegate._add_delegate_acc...    11         123068\n",
      "12  <bound method PandasDelegate._add_delegate_acc...    12         155379\n",
      "13  <bound method PandasDelegate._add_delegate_acc...    13         160439\n",
      "14  <bound method PandasDelegate._add_delegate_acc...    14         162418\n",
      "15  <bound method PandasDelegate._add_delegate_acc...    15         174875\n",
      "16  <bound method PandasDelegate._add_delegate_acc...    16         203678\n",
      "17  <bound method PandasDelegate._add_delegate_acc...    17         248001\n",
      "18  <bound method PandasDelegate._add_delegate_acc...    18         256033\n",
      "19  <bound method PandasDelegate._add_delegate_acc...    19         203739\n",
      "20  <bound method PandasDelegate._add_delegate_acc...    20         137771\n",
      "21  <bound method PandasDelegate._add_delegate_acc...    21         101267\n",
      "22  <bound method PandasDelegate._add_delegate_acc...    22          90261\n",
      "23  <bound method PandasDelegate._add_delegate_acc...    23          69487\n"
     ]
    }
   ],
   "source": [
    "#Anzahl der Fahrten pro Tag\n",
    "daily_counts = df.groupby('DATE').size().reset_index(name='DAILY_COUNTS')\n",
    "print(daily_counts)\n",
    "\n",
    "#Anzahl der Fahrten pro Stunde und Wochentag\n",
    "hourly_counts = df.groupby(['WEEKDAY', 'HOUR']).size().reset_index(name='HOURLY_COUNTS')\n",
    "print(hourly_counts)\n",
    "\n",
    "#Wochentage sortieren - Fehler!\n",
    "weekday_order = ['Monday', 'Tuesday', 'Wednesday', 'Thursday', 'Friday', 'Saturday', 'Sunday']\n",
    "hourly_counts['WEEKDAY'] = pd.Categorical(hourly_counts['WEEKDAY'], categories=weekday_order, ordered=True)"
   ]
  },
  {
   "cell_type": "code",
   "execution_count": 33,
   "metadata": {},
   "outputs": [
    {
     "data": {
      "application/vnd.plotly.v1+json": {
       "config": {
        "plotlyServerURL": "https://plot.ly"
       },
       "data": [
        {
         "hovertemplate": "Datum=%{x}<br>Fahrten=%{y}<extra></extra>",
         "legendgroup": "",
         "line": {
          "color": "#636efa",
          "dash": "solid"
         },
         "marker": {
          "symbol": "circle"
         },
         "mode": "lines",
         "name": "",
         "showlegend": false,
         "type": "scattergl",
         "x": [
          "2020-01-01",
          "2020-01-02",
          "2020-01-03",
          "2020-01-04",
          "2020-01-05",
          "2020-01-06",
          "2020-01-07",
          "2020-01-08",
          "2020-01-09",
          "2020-01-10",
          "2020-01-11",
          "2020-01-12",
          "2020-01-13",
          "2020-01-14",
          "2020-01-15",
          "2020-01-16",
          "2020-01-17",
          "2020-01-18",
          "2020-01-19",
          "2020-01-20",
          "2020-01-21",
          "2020-01-22",
          "2020-01-23",
          "2020-01-24",
          "2020-01-25",
          "2020-01-26",
          "2020-01-27",
          "2020-01-28",
          "2020-01-29",
          "2020-01-30",
          "2020-01-31",
          "2020-02-01",
          "2020-02-02",
          "2020-02-03",
          "2020-02-04",
          "2020-02-05",
          "2020-02-06",
          "2020-02-07",
          "2020-02-08",
          "2020-02-09",
          "2020-02-10",
          "2020-02-11",
          "2020-02-12",
          "2020-02-13",
          "2020-02-14",
          "2020-02-15",
          "2020-02-16",
          "2020-02-17",
          "2020-02-18",
          "2020-02-19",
          "2020-02-20",
          "2020-02-21",
          "2020-02-22",
          "2020-02-23",
          "2020-02-24",
          "2020-02-25",
          "2020-02-26",
          "2020-02-27",
          "2020-02-28",
          "2020-02-29",
          "2020-03-01",
          "2020-03-02",
          "2020-03-03",
          "2020-03-04",
          "2020-03-05",
          "2020-03-06",
          "2020-03-07",
          "2020-03-08",
          "2020-03-09",
          "2020-03-10",
          "2020-03-11",
          "2020-03-12",
          "2020-03-13",
          "2020-03-14",
          "2020-03-15",
          "2020-03-16",
          "2020-03-17",
          "2020-03-18",
          "2020-03-19",
          "2020-03-20",
          "2020-03-21",
          "2020-03-22",
          "2020-03-23",
          "2020-03-24",
          "2020-03-25",
          "2020-03-26",
          "2020-03-27",
          "2020-03-28",
          "2020-03-29",
          "2020-03-30",
          "2020-03-31",
          "2020-04-01",
          "2020-04-02",
          "2020-04-03",
          "2020-04-04",
          "2020-04-05",
          "2020-04-06",
          "2020-04-07",
          "2020-04-08",
          "2020-04-09",
          "2020-04-10",
          "2020-04-11",
          "2020-04-12",
          "2020-04-13",
          "2020-04-14",
          "2020-04-15",
          "2020-04-16",
          "2020-04-17",
          "2020-04-18",
          "2020-04-19",
          "2020-04-20",
          "2020-04-21",
          "2020-04-22",
          "2020-04-23",
          "2020-04-24",
          "2020-04-25",
          "2020-04-26",
          "2020-04-27",
          "2020-04-28",
          "2020-04-29",
          "2020-04-30",
          "2020-05-01",
          "2020-05-02",
          "2020-05-03",
          "2020-05-04",
          "2020-05-05",
          "2020-05-06",
          "2020-05-07",
          "2020-05-08",
          "2020-05-09",
          "2020-05-10",
          "2020-05-11",
          "2020-05-12",
          "2020-05-13",
          "2020-05-14",
          "2020-05-15",
          "2020-05-16",
          "2020-05-17",
          "2020-05-18",
          "2020-05-19",
          "2020-05-20",
          "2020-05-21",
          "2020-05-22",
          "2020-05-23",
          "2020-05-24",
          "2020-05-25",
          "2020-05-26",
          "2020-05-27",
          "2020-05-28",
          "2020-05-29",
          "2020-05-30",
          "2020-05-31",
          "2020-06-01",
          "2020-06-02",
          "2020-06-03",
          "2020-06-04",
          "2020-06-05",
          "2020-06-06",
          "2020-06-07",
          "2020-06-08",
          "2020-06-09",
          "2020-06-10",
          "2020-06-11",
          "2020-06-12",
          "2020-06-13",
          "2020-06-14",
          "2020-06-15",
          "2020-06-16",
          "2020-06-17",
          "2020-06-18",
          "2020-06-19",
          "2020-06-20",
          "2020-06-21",
          "2020-06-22",
          "2020-06-23",
          "2020-06-24",
          "2020-06-25",
          "2020-06-26",
          "2020-06-27",
          "2020-06-28",
          "2020-06-29",
          "2020-06-30",
          "2020-07-01",
          "2020-07-02",
          "2020-07-03",
          "2020-07-04",
          "2020-07-05",
          "2020-07-06",
          "2020-07-07",
          "2020-07-08",
          "2020-07-09",
          "2020-07-10",
          "2020-07-11",
          "2020-07-12",
          "2020-07-13",
          "2020-07-14",
          "2020-07-15",
          "2020-07-16",
          "2020-07-17",
          "2020-07-18",
          "2020-07-19",
          "2020-07-20",
          "2020-07-21",
          "2020-07-22",
          "2020-07-23",
          "2020-07-24",
          "2020-07-25",
          "2020-07-26",
          "2020-07-27",
          "2020-07-28",
          "2020-07-29",
          "2020-07-30",
          "2020-07-31",
          "2020-08-01",
          "2020-08-02",
          "2020-08-03",
          "2020-08-04",
          "2020-08-05",
          "2020-08-06",
          "2020-08-07",
          "2020-08-08",
          "2020-08-09",
          "2020-08-10",
          "2020-08-11",
          "2020-08-12",
          "2020-08-13",
          "2020-08-14",
          "2020-08-15",
          "2020-08-16",
          "2020-08-17",
          "2020-08-18",
          "2020-08-19",
          "2020-08-20",
          "2020-08-21",
          "2020-08-22",
          "2020-08-23",
          "2020-08-24",
          "2020-08-25",
          "2020-08-26",
          "2020-08-27",
          "2020-08-28",
          "2020-08-29",
          "2020-08-30",
          "2020-08-31",
          "2020-09-01",
          "2020-09-02",
          "2020-09-03",
          "2020-09-04",
          "2020-09-05",
          "2020-09-06",
          "2020-09-07",
          "2020-09-08",
          "2020-09-09",
          "2020-09-10",
          "2020-09-11",
          "2020-09-12",
          "2020-09-13",
          "2020-09-14",
          "2020-09-15",
          "2020-09-16",
          "2020-09-17",
          "2020-09-18",
          "2020-09-19",
          "2020-09-20",
          "2020-09-21",
          "2020-09-22",
          "2020-09-23",
          "2020-09-24",
          "2020-09-25",
          "2020-09-26",
          "2020-09-27",
          "2020-09-28",
          "2020-09-29",
          "2020-09-30",
          "2020-10-01",
          "2020-10-02",
          "2020-10-03",
          "2020-10-04",
          "2020-10-05",
          "2020-10-06",
          "2020-10-07",
          "2020-10-08",
          "2020-10-09",
          "2020-10-10",
          "2020-10-11",
          "2020-10-12",
          "2020-10-13",
          "2020-10-14",
          "2020-10-15",
          "2020-10-16",
          "2020-10-17",
          "2020-10-18",
          "2020-10-19",
          "2020-10-20",
          "2020-10-21",
          "2020-10-22",
          "2020-10-23",
          "2020-10-24",
          "2020-10-25",
          "2020-10-26",
          "2020-10-27",
          "2020-10-28",
          "2020-10-29",
          "2020-10-30",
          "2020-10-31",
          "2020-11-01",
          "2020-11-02",
          "2020-11-03",
          "2020-11-04",
          "2020-11-05",
          "2020-11-06",
          "2020-11-07",
          "2020-11-08",
          "2020-11-09",
          "2020-11-10",
          "2020-11-11",
          "2020-11-12",
          "2020-11-13",
          "2020-11-14",
          "2020-11-15",
          "2020-11-16",
          "2020-11-17",
          "2020-11-18",
          "2020-11-19",
          "2020-11-20",
          "2020-11-21",
          "2020-11-22",
          "2020-11-23",
          "2020-11-24",
          "2020-11-25",
          "2020-11-26",
          "2020-11-27",
          "2020-11-28",
          "2020-11-29",
          "2020-11-30",
          "2020-12-01",
          "2020-12-02",
          "2020-12-03",
          "2020-12-04",
          "2020-12-05",
          "2020-12-06",
          "2020-12-07",
          "2020-12-08",
          "2020-12-09",
          "2020-12-10",
          "2020-12-11",
          "2020-12-12",
          "2020-12-13",
          "2020-12-14",
          "2020-12-15",
          "2020-12-16",
          "2020-12-17",
          "2020-12-18",
          "2020-12-19",
          "2020-12-20",
          "2020-12-21",
          "2020-12-22",
          "2020-12-23",
          "2020-12-24",
          "2020-12-25",
          "2020-12-26",
          "2020-12-27",
          "2020-12-28",
          "2020-12-29",
          "2020-12-30",
          "2020-12-31",
          "2021-01-01",
          "2021-01-02",
          "2021-01-03",
          "2021-01-04",
          "2021-01-05",
          "2021-01-06",
          "2021-01-07",
          "2021-01-08",
          "2021-01-09",
          "2021-01-10",
          "2021-01-11",
          "2021-01-12",
          "2021-01-13",
          "2021-01-14",
          "2021-01-15",
          "2021-01-16",
          "2021-01-17",
          "2021-01-18",
          "2021-01-19",
          "2021-01-20",
          "2021-01-21",
          "2021-01-22",
          "2021-01-23",
          "2021-01-24",
          "2021-01-25",
          "2021-01-26",
          "2021-01-27",
          "2021-01-28",
          "2021-01-29",
          "2021-01-30",
          "2021-01-31",
          "2021-02-01",
          "2021-02-02",
          "2021-02-03",
          "2021-02-04",
          "2021-02-05",
          "2021-02-06",
          "2021-02-07",
          "2021-02-08",
          "2021-02-09",
          "2021-02-10",
          "2021-02-11",
          "2021-02-12",
          "2021-02-13",
          "2021-02-14",
          "2021-02-15",
          "2021-02-16",
          "2021-02-17",
          "2021-02-18",
          "2021-02-19",
          "2021-02-20",
          "2021-02-21",
          "2021-02-22",
          "2021-02-23",
          "2021-02-24",
          "2021-02-25",
          "2021-02-26",
          "2021-02-27",
          "2021-02-28",
          "2021-03-01",
          "2021-03-02",
          "2021-03-03",
          "2021-03-04",
          "2021-03-05",
          "2021-03-06",
          "2021-03-07",
          "2021-03-08",
          "2021-03-09",
          "2021-03-10",
          "2021-03-11",
          "2021-03-12",
          "2021-03-13",
          "2021-03-14",
          "2021-03-15",
          "2021-03-16",
          "2021-03-17",
          "2021-03-18",
          "2021-03-19",
          "2021-03-20",
          "2021-03-21",
          "2021-03-22",
          "2021-03-23",
          "2021-03-24",
          "2021-03-25",
          "2021-03-26",
          "2021-03-27",
          "2021-03-28",
          "2021-03-29",
          "2021-03-30",
          "2021-03-31",
          "2021-04-01",
          "2021-04-02",
          "2021-04-03",
          "2021-04-04",
          "2021-04-05",
          "2021-04-06",
          "2021-04-07",
          "2021-04-08",
          "2021-04-09",
          "2021-04-10",
          "2021-04-11",
          "2021-04-12",
          "2021-04-13",
          "2021-04-14",
          "2021-04-15",
          "2021-04-16",
          "2021-04-17",
          "2021-04-18",
          "2021-04-19",
          "2021-04-20",
          "2021-04-21",
          "2021-04-22",
          "2021-04-23",
          "2021-04-24",
          "2021-04-25",
          "2021-04-26",
          "2021-04-27",
          "2021-04-28",
          "2021-04-29",
          "2021-04-30",
          "2021-05-01",
          "2021-05-02",
          "2021-05-03",
          "2021-05-04",
          "2021-05-05",
          "2021-05-06",
          "2021-05-07",
          "2021-05-08",
          "2021-05-09",
          "2021-05-10",
          "2021-05-11",
          "2021-05-12",
          "2021-05-13",
          "2021-05-14",
          "2021-05-15",
          "2021-05-16",
          "2021-05-17",
          "2021-05-18",
          "2021-05-19",
          "2021-05-20",
          "2021-05-21",
          "2021-05-22",
          "2021-05-23",
          "2021-05-24",
          "2021-05-25",
          "2021-05-26",
          "2021-05-27",
          "2021-05-28",
          "2021-05-29",
          "2021-05-30",
          "2021-05-31",
          "2021-06-01",
          "2021-06-02",
          "2021-06-03",
          "2021-06-04",
          "2021-06-05",
          "2021-06-06",
          "2021-06-07",
          "2021-06-08",
          "2021-06-09",
          "2021-06-10",
          "2021-06-11",
          "2021-06-12",
          "2021-06-13",
          "2021-06-14",
          "2021-06-15",
          "2021-06-16",
          "2021-06-17",
          "2021-06-18",
          "2021-06-19",
          "2021-06-20",
          "2021-06-21",
          "2021-06-22",
          "2021-06-23",
          "2021-06-24",
          "2021-06-25",
          "2021-06-26",
          "2021-06-27",
          "2021-06-28",
          "2021-06-29",
          "2021-06-30",
          "2021-07-01",
          "2021-07-02",
          "2021-07-03",
          "2021-07-04",
          "2021-07-05",
          "2021-07-06",
          "2021-07-07",
          "2021-07-08",
          "2021-07-09",
          "2021-07-10",
          "2021-07-11",
          "2021-07-12",
          "2021-07-13",
          "2021-07-14",
          "2021-07-15",
          "2021-07-16",
          "2021-07-17",
          "2021-07-18",
          "2021-07-19",
          "2021-07-20",
          "2021-07-21",
          "2021-07-22",
          "2021-07-23",
          "2021-07-24",
          "2021-07-25",
          "2021-07-26",
          "2021-07-27",
          "2021-07-28",
          "2021-07-29",
          "2021-07-30",
          "2021-07-31",
          "2021-08-01",
          "2021-08-02",
          "2021-08-03",
          "2021-08-04",
          "2021-08-05",
          "2021-08-06",
          "2021-08-07",
          "2021-08-08",
          "2021-08-09",
          "2021-08-10",
          "2021-08-11",
          "2021-08-12",
          "2021-08-13",
          "2021-08-14",
          "2021-08-15",
          "2021-08-16",
          "2021-08-17",
          "2021-08-18",
          "2021-08-19",
          "2021-08-20",
          "2021-08-21",
          "2021-08-22",
          "2021-08-23",
          "2021-08-24",
          "2021-08-25",
          "2021-08-26",
          "2021-08-27",
          "2021-08-28",
          "2021-08-29",
          "2021-08-30",
          "2021-08-31",
          "2021-09-01",
          "2021-09-02",
          "2021-09-03",
          "2021-09-04",
          "2021-09-05",
          "2021-09-06",
          "2021-09-07",
          "2021-09-08",
          "2021-09-09",
          "2021-09-10",
          "2021-09-11",
          "2021-09-12",
          "2021-09-13",
          "2021-09-14",
          "2021-09-15",
          "2021-09-16",
          "2021-09-17",
          "2021-09-18",
          "2021-09-19",
          "2021-09-20",
          "2021-09-21",
          "2021-09-22",
          "2021-09-23",
          "2021-09-24",
          "2021-09-25",
          "2021-09-26",
          "2021-09-27",
          "2021-09-28",
          "2021-09-29",
          "2021-09-30",
          "2021-10-01",
          "2021-10-02",
          "2021-10-03",
          "2021-10-04",
          "2021-10-05",
          "2021-10-06",
          "2021-10-07",
          "2021-10-08",
          "2021-10-09",
          "2021-10-10",
          "2021-10-11",
          "2021-10-12",
          "2021-10-13",
          "2021-10-14",
          "2021-10-15",
          "2021-10-16",
          "2021-10-17",
          "2021-10-18",
          "2021-10-19",
          "2021-10-20",
          "2021-10-21",
          "2021-10-22",
          "2021-10-23",
          "2021-10-24",
          "2021-10-25",
          "2021-10-26",
          "2021-10-27",
          "2021-10-28",
          "2021-10-29",
          "2021-10-30",
          "2021-10-31",
          "2021-11-01",
          "2021-11-02",
          "2021-11-03",
          "2021-11-04",
          "2021-11-05",
          "2021-11-06",
          "2021-11-07",
          "2021-11-08",
          "2021-11-09",
          "2021-11-10",
          "2021-11-11",
          "2021-11-12",
          "2021-11-13",
          "2021-11-14",
          "2021-11-15",
          "2021-11-16",
          "2021-11-17",
          "2021-11-18",
          "2021-11-19",
          "2021-11-20",
          "2021-11-21",
          "2021-11-22",
          "2021-11-23",
          "2021-11-24",
          "2021-11-25",
          "2021-11-26",
          "2021-11-27",
          "2021-11-28",
          "2021-11-29",
          "2021-11-30",
          "2021-12-01",
          "2021-12-02",
          "2021-12-03",
          "2021-12-04",
          "2021-12-05",
          "2021-12-06",
          "2021-12-07",
          "2021-12-08",
          "2021-12-09",
          "2021-12-10",
          "2021-12-11",
          "2021-12-12",
          "2021-12-13",
          "2021-12-14",
          "2021-12-15",
          "2021-12-16",
          "2021-12-17",
          "2021-12-18",
          "2021-12-19",
          "2021-12-20",
          "2021-12-21",
          "2021-12-22",
          "2021-12-23",
          "2021-12-24",
          "2021-12-25",
          "2021-12-26",
          "2021-12-27",
          "2021-12-28",
          "2021-12-29",
          "2021-12-30",
          "2021-12-31",
          "2022-01-01",
          "2022-01-02",
          "2022-01-03",
          "2022-01-04",
          "2022-01-05",
          "2022-01-06",
          "2022-01-07",
          "2022-01-08",
          "2022-01-09",
          "2022-01-10",
          "2022-01-11",
          "2022-01-12",
          "2022-01-13",
          "2022-01-14",
          "2022-01-15",
          "2022-01-16",
          "2022-01-17",
          "2022-01-18",
          "2022-01-19",
          "2022-01-20",
          "2022-01-21",
          "2022-01-22",
          "2022-01-23",
          "2022-01-24",
          "2022-01-25",
          "2022-01-26",
          "2022-01-27",
          "2022-01-28",
          "2022-01-29",
          "2022-01-30",
          "2022-01-31",
          "2022-02-01",
          "2022-02-02",
          "2022-02-03",
          "2022-02-04",
          "2022-02-05",
          "2022-02-06",
          "2022-02-07",
          "2022-02-08",
          "2022-02-09",
          "2022-02-10",
          "2022-02-11",
          "2022-02-12",
          "2022-02-13",
          "2022-02-14",
          "2022-02-15",
          "2022-02-16",
          "2022-02-17",
          "2022-02-18",
          "2022-02-19",
          "2022-02-20",
          "2022-02-21",
          "2022-02-22",
          "2022-02-23",
          "2022-02-24",
          "2022-02-25",
          "2022-02-26",
          "2022-02-27",
          "2022-02-28",
          "2022-03-01",
          "2022-03-02",
          "2022-03-03",
          "2022-03-04",
          "2022-03-05",
          "2022-03-06",
          "2022-03-07",
          "2022-03-08",
          "2022-03-09",
          "2022-03-10",
          "2022-03-11",
          "2022-03-12",
          "2022-03-13",
          "2022-03-14",
          "2022-03-15",
          "2022-03-16",
          "2022-03-17",
          "2022-03-18",
          "2022-03-19",
          "2022-03-20",
          "2022-03-21",
          "2022-03-22",
          "2022-03-23",
          "2022-03-24",
          "2022-03-25",
          "2022-03-26",
          "2022-03-27",
          "2022-03-28",
          "2022-03-29",
          "2022-03-30",
          "2022-03-31",
          "2022-04-01",
          "2022-04-02",
          "2022-04-03",
          "2022-04-04",
          "2022-04-05",
          "2022-04-06",
          "2022-04-07",
          "2022-04-08",
          "2022-04-09",
          "2022-04-10",
          "2022-04-11",
          "2022-04-12",
          "2022-04-13",
          "2022-04-14",
          "2022-04-15",
          "2022-04-16",
          "2022-04-17",
          "2022-04-18",
          "2022-04-19",
          "2022-04-20",
          "2022-04-21",
          "2022-04-22",
          "2022-04-23",
          "2022-04-24",
          "2022-04-25",
          "2022-04-26",
          "2022-04-27",
          "2022-04-28",
          "2022-04-29",
          "2022-04-30",
          "2022-05-01",
          "2022-05-02",
          "2022-05-03",
          "2022-05-04",
          "2022-05-05",
          "2022-05-06",
          "2022-05-07",
          "2022-05-08",
          "2022-05-09",
          "2022-05-10",
          "2022-05-11",
          "2022-05-12",
          "2022-05-13",
          "2022-05-14",
          "2022-05-15",
          "2022-05-16",
          "2022-05-17",
          "2022-05-18",
          "2022-05-19",
          "2022-05-20",
          "2022-05-21",
          "2022-05-22",
          "2022-05-23",
          "2022-05-24",
          "2022-05-25",
          "2022-05-26",
          "2022-05-27",
          "2022-05-28",
          "2022-05-29",
          "2022-05-30",
          "2022-05-31",
          "2022-06-01",
          "2022-06-02",
          "2022-06-03",
          "2022-06-04",
          "2022-06-05",
          "2022-06-06",
          "2022-06-07",
          "2022-06-08",
          "2022-06-09",
          "2022-06-10",
          "2022-06-11",
          "2022-06-12",
          "2022-06-13",
          "2022-06-14",
          "2022-06-15",
          "2022-06-16",
          "2022-06-17",
          "2022-06-18",
          "2022-06-19",
          "2022-06-20",
          "2022-06-21",
          "2022-06-22",
          "2022-06-23",
          "2022-06-24",
          "2022-06-25",
          "2022-06-26",
          "2022-06-27",
          "2022-06-28",
          "2022-06-29",
          "2022-06-30",
          "2022-07-01",
          "2022-07-02",
          "2022-07-03",
          "2022-07-04",
          "2022-07-05",
          "2022-07-06",
          "2022-07-07",
          "2022-07-08",
          "2022-07-09",
          "2022-07-10",
          "2022-07-11",
          "2022-07-12",
          "2022-07-13",
          "2022-07-14",
          "2022-07-15",
          "2022-07-16",
          "2022-07-17",
          "2022-07-18",
          "2022-07-19",
          "2022-07-20",
          "2022-07-21",
          "2022-07-22",
          "2022-07-23",
          "2022-07-24",
          "2022-07-25",
          "2022-07-26",
          "2022-07-27",
          "2022-07-28",
          "2022-07-29",
          "2022-07-30",
          "2022-07-31",
          "2022-08-01",
          "2022-08-02",
          "2022-08-03",
          "2022-08-04",
          "2022-08-05",
          "2022-08-06",
          "2022-08-07",
          "2022-08-08",
          "2022-08-09",
          "2022-08-10",
          "2022-08-11",
          "2022-08-12",
          "2022-08-13",
          "2022-08-14",
          "2022-08-15",
          "2022-08-16",
          "2022-08-17",
          "2022-08-18",
          "2022-08-19",
          "2022-08-20",
          "2022-08-21",
          "2022-08-22",
          "2022-08-23",
          "2022-08-24",
          "2022-08-25",
          "2022-08-26",
          "2022-08-27",
          "2022-08-28",
          "2022-08-29",
          "2022-08-30",
          "2022-08-31",
          "2022-09-01",
          "2022-09-02",
          "2022-09-03",
          "2022-09-04",
          "2022-09-05",
          "2022-09-06",
          "2022-09-07",
          "2022-09-08",
          "2022-09-09",
          "2022-09-10",
          "2022-09-11",
          "2022-09-12",
          "2022-09-13",
          "2022-09-14",
          "2022-09-15",
          "2022-09-16",
          "2022-09-17",
          "2022-09-18",
          "2022-09-19",
          "2022-09-20",
          "2022-09-21",
          "2022-09-22",
          "2022-09-23",
          "2022-09-24",
          "2022-09-25",
          "2022-09-26",
          "2022-09-27",
          "2022-09-28",
          "2022-09-29",
          "2022-09-30",
          "2022-10-01",
          "2022-10-02",
          "2022-10-03",
          "2022-10-04",
          "2022-10-05",
          "2022-10-06",
          "2022-10-07",
          "2022-10-08",
          "2022-10-09",
          "2022-10-10",
          "2022-10-11",
          "2022-10-12",
          "2022-10-13",
          "2022-10-14",
          "2022-10-15",
          "2022-10-16",
          "2022-10-17",
          "2022-10-18",
          "2022-10-19",
          "2022-10-20",
          "2022-10-21",
          "2022-10-22",
          "2022-10-23",
          "2022-10-24",
          "2022-10-25",
          "2022-10-26",
          "2022-10-27",
          "2022-10-28",
          "2022-10-29",
          "2022-10-30",
          "2022-10-31",
          "2022-11-01",
          "2022-11-02",
          "2022-11-03",
          "2022-11-04",
          "2022-11-05",
          "2022-11-06",
          "2022-11-07",
          "2022-11-08",
          "2022-11-09",
          "2022-11-10",
          "2022-11-11",
          "2022-11-12",
          "2022-11-13",
          "2022-11-14",
          "2022-11-15",
          "2022-11-16",
          "2022-11-17",
          "2022-11-18",
          "2022-11-19",
          "2022-11-20",
          "2022-11-21",
          "2022-11-22",
          "2022-11-23",
          "2022-11-24",
          "2022-11-25",
          "2022-11-26",
          "2022-11-27",
          "2022-11-28",
          "2022-11-29",
          "2022-11-30",
          "2022-12-01",
          "2022-12-02",
          "2022-12-03",
          "2022-12-04",
          "2022-12-05",
          "2022-12-06",
          "2022-12-07",
          "2022-12-08",
          "2022-12-09",
          "2022-12-10",
          "2022-12-11",
          "2022-12-12",
          "2022-12-13",
          "2022-12-14",
          "2022-12-15",
          "2022-12-16",
          "2022-12-17",
          "2022-12-18",
          "2022-12-19",
          "2022-12-20",
          "2022-12-21",
          "2022-12-22",
          "2022-12-23",
          "2022-12-24",
          "2022-12-25",
          "2022-12-26",
          "2022-12-27",
          "2022-12-28",
          "2022-12-29",
          "2022-12-30",
          "2022-12-31",
          "2023-01-01",
          "2023-01-02",
          "2023-01-03",
          "2023-01-04",
          "2023-01-05",
          "2023-01-06",
          "2023-01-07",
          "2023-01-08",
          "2023-01-09",
          "2023-01-10",
          "2023-01-11",
          "2023-01-12",
          "2023-01-13",
          "2023-01-14",
          "2023-01-15",
          "2023-01-16",
          "2023-01-17",
          "2023-01-18",
          "2023-01-19",
          "2023-01-20",
          "2023-01-21",
          "2023-01-22",
          "2023-01-23",
          "2023-01-24",
          "2023-01-25",
          "2023-01-26",
          "2023-01-27",
          "2023-01-28",
          "2023-01-29",
          "2023-01-30",
          "2023-01-31",
          "2023-02-01",
          "2023-02-02",
          "2023-02-03",
          "2023-02-04",
          "2023-02-05",
          "2023-02-06",
          "2023-02-07",
          "2023-02-08",
          "2023-02-09",
          "2023-02-10",
          "2023-02-11",
          "2023-02-12",
          "2023-02-13",
          "2023-02-14",
          "2023-02-15",
          "2023-02-16",
          "2023-02-17",
          "2023-02-18",
          "2023-02-19",
          "2023-02-20",
          "2023-02-21",
          "2023-02-22",
          "2023-02-23",
          "2023-02-24",
          "2023-02-25",
          "2023-02-26",
          "2023-02-27",
          "2023-02-28",
          "2023-03-01",
          "2023-03-02",
          "2023-03-03",
          "2023-03-04",
          "2023-03-05",
          "2023-03-06",
          "2023-03-07",
          "2023-03-08",
          "2023-03-09",
          "2023-03-10",
          "2023-03-11",
          "2023-03-12",
          "2023-03-13",
          "2023-03-14",
          "2023-03-15",
          "2023-03-16",
          "2023-03-17",
          "2023-03-18",
          "2023-03-19",
          "2023-03-20",
          "2023-03-21",
          "2023-03-22",
          "2023-03-23",
          "2023-03-24",
          "2023-03-25",
          "2023-03-26",
          "2023-03-27",
          "2023-03-28",
          "2023-03-29",
          "2023-03-30",
          "2023-03-31",
          "2023-04-01",
          "2023-04-02",
          "2023-04-03",
          "2023-04-04",
          "2023-04-05",
          "2023-04-06",
          "2023-04-07",
          "2023-04-08",
          "2023-04-09",
          "2023-04-10",
          "2023-04-11",
          "2023-04-12",
          "2023-04-13",
          "2023-04-14",
          "2023-04-15",
          "2023-04-16",
          "2023-04-17",
          "2023-04-18",
          "2023-04-19",
          "2023-04-20",
          "2023-04-21",
          "2023-04-22",
          "2023-04-23",
          "2023-04-24",
          "2023-04-25",
          "2023-04-26",
          "2023-04-27",
          "2023-04-28",
          "2023-04-29",
          "2023-04-30",
          "2023-05-01",
          "2023-05-02",
          "2023-05-03",
          "2023-05-04",
          "2023-05-05",
          "2023-05-06",
          "2023-05-07",
          "2023-05-08",
          "2023-05-09",
          "2023-05-10",
          "2023-05-11",
          "2023-05-12",
          "2023-05-13",
          "2023-05-14",
          "2023-05-15",
          "2023-05-16",
          "2023-05-17",
          "2023-05-18",
          "2023-05-19",
          "2023-05-20",
          "2023-05-21",
          "2023-05-22",
          "2023-05-23",
          "2023-05-24",
          "2023-05-25",
          "2023-05-26",
          "2023-05-27",
          "2023-05-28",
          "2023-05-29",
          "2023-05-30",
          "2023-05-31",
          "2023-06-01",
          "2023-06-02",
          "2023-06-03",
          "2023-06-04",
          "2023-06-05",
          "2023-06-06",
          "2023-06-07",
          "2023-06-08",
          "2023-06-09",
          "2023-06-10",
          "2023-06-11",
          "2023-06-12",
          "2023-06-13",
          "2023-06-14",
          "2023-06-15",
          "2023-06-16",
          "2023-06-17",
          "2023-06-18",
          "2023-06-19",
          "2023-06-20",
          "2023-06-21",
          "2023-06-22",
          "2023-06-23",
          "2023-06-24",
          "2023-06-25",
          "2023-06-26",
          "2023-06-27",
          "2023-06-28",
          "2023-06-29",
          "2023-06-30",
          "2023-07-01",
          "2023-07-02",
          "2023-07-03",
          "2023-07-04",
          "2023-07-05",
          "2023-07-06",
          "2023-07-07",
          "2023-07-08",
          "2023-07-09",
          "2023-07-10",
          "2023-07-11",
          "2023-07-12",
          "2023-07-13",
          "2023-07-14",
          "2023-07-15",
          "2023-07-16",
          "2023-07-17",
          "2023-07-18",
          "2023-07-19",
          "2023-07-20",
          "2023-07-21",
          "2023-07-22",
          "2023-07-23",
          "2023-07-24",
          "2023-07-25",
          "2023-07-26",
          "2023-07-27",
          "2023-07-28",
          "2023-07-29",
          "2023-07-30",
          "2023-07-31",
          "2023-08-01",
          "2023-08-02",
          "2023-08-03",
          "2023-08-04",
          "2023-08-05",
          "2023-08-06",
          "2023-08-07",
          "2023-08-08",
          "2023-08-09",
          "2023-08-10",
          "2023-08-11",
          "2023-08-12",
          "2023-08-13",
          "2023-08-14",
          "2023-08-15",
          "2023-08-16",
          "2023-08-17",
          "2023-08-18",
          "2023-08-19",
          "2023-08-20",
          "2023-08-21",
          "2023-08-22",
          "2023-08-23",
          "2023-08-24",
          "2023-08-25",
          "2023-08-26",
          "2023-08-27",
          "2023-08-28",
          "2023-08-29",
          "2023-08-30",
          "2023-08-31",
          "2023-09-01",
          "2023-09-02",
          "2023-09-03",
          "2023-09-04",
          "2023-09-05",
          "2023-09-06",
          "2023-09-07",
          "2023-09-08",
          "2023-09-09",
          "2023-09-10",
          "2023-09-11",
          "2023-09-12",
          "2023-09-13",
          "2023-09-14",
          "2023-09-15",
          "2023-09-16",
          "2023-09-17",
          "2023-09-18",
          "2023-09-19",
          "2023-09-20",
          "2023-09-21",
          "2023-09-22",
          "2023-09-23",
          "2023-09-24",
          "2023-09-25",
          "2023-09-26",
          "2023-09-27",
          "2023-09-28",
          "2023-09-29",
          "2023-09-30",
          "2023-10-01",
          "2023-10-02",
          "2023-10-03",
          "2023-10-04",
          "2023-10-05",
          "2023-10-06",
          "2023-10-07",
          "2023-10-08",
          "2023-10-09",
          "2023-10-10",
          "2023-10-11",
          "2023-10-12",
          "2023-10-13",
          "2023-10-14",
          "2023-10-15",
          "2023-10-16",
          "2023-10-17",
          "2023-10-18",
          "2023-10-19",
          "2023-10-20",
          "2023-10-21",
          "2023-10-22",
          "2023-10-23",
          "2023-10-24",
          "2023-10-25",
          "2023-10-26",
          "2023-10-27",
          "2023-10-28",
          "2023-10-29",
          "2023-10-30",
          "2023-10-31",
          "2023-11-01",
          "2023-11-02",
          "2023-11-03",
          "2023-11-04",
          "2023-11-05",
          "2023-11-06",
          "2023-11-07",
          "2023-11-08",
          "2023-11-09",
          "2023-11-10",
          "2023-11-11",
          "2023-11-12",
          "2023-11-13",
          "2023-11-14",
          "2023-11-15",
          "2023-11-16",
          "2023-11-17",
          "2023-11-18",
          "2023-11-19",
          "2023-11-20",
          "2023-11-21",
          "2023-11-22",
          "2023-11-23",
          "2023-11-24",
          "2023-11-25",
          "2023-11-26",
          "2023-11-27",
          "2023-11-28",
          "2023-11-29",
          "2023-11-30",
          "2023-12-01",
          "2023-12-02",
          "2023-12-03",
          "2023-12-04",
          "2023-12-05",
          "2023-12-06",
          "2023-12-07",
          "2023-12-08",
          "2023-12-09",
          "2023-12-10",
          "2023-12-11",
          "2023-12-12",
          "2023-12-13",
          "2023-12-14",
          "2023-12-15",
          "2023-12-16",
          "2023-12-17",
          "2023-12-18",
          "2023-12-19",
          "2023-12-20",
          "2023-12-21",
          "2023-12-22",
          "2023-12-23",
          "2023-12-24",
          "2023-12-25",
          "2023-12-26",
          "2023-12-27",
          "2023-12-28",
          "2023-12-29",
          "2023-12-30",
          "2023-12-31"
         ],
         "xaxis": "x",
         "y": [
          597,
          680,
          750,
          562,
          583,
          690,
          931,
          1227,
          1567,
          1490,
          1040,
          1010,
          1408,
          1701,
          1730,
          1806,
          1676,
          782,
          650,
          1218,
          1409,
          1396,
          1251,
          1467,
          1125,
          1008,
          1604,
          1364,
          1232,
          1749,
          1721,
          1522,
          860,
          559,
          1248,
          1496,
          1686,
          1655,
          1527,
          1621,
          1199,
          1243,
          1322,
          1699,
          1590,
          1592,
          1511,
          1624,
          1851,
          1682,
          1877,
          1883,
          1824,
          1065,
          1375,
          1577,
          1254,
          1108,
          1321,
          1454,
          1555,
          1712,
          1413,
          1775,
          1419,
          1563,
          1109,
          1599,
          1410,
          973,
          2032,
          2015,
          1547,
          1427,
          1873,
          1736,
          1209,
          1433,
          1356,
          1409,
          165,
          402,
          580,
          548,
          517,
          512,
          894,
          1455,
          399,
          481,
          627,
          728,
          822,
          889,
          1280,
          1569,
          1136,
          1223,
          1270,
          1295,
          1874,
          2155,
          2188,
          1413,
          854,
          1245,
          1521,
          1740,
          2323,
          2035,
          1189,
          1404,
          1552,
          1696,
          1683,
          2719,
          2692,
          1511,
          1063,
          937,
          1131,
          858,
          828,
          1793,
          1239,
          1296,
          1751,
          2094,
          2464,
          2646,
          1711,
          1079,
          1587,
          960,
          1211,
          1169,
          2581,
          2676,
          2473,
          2659,
          2468,
          3083,
          2865,
          1305,
          2084,
          1632,
          2242,
          2841,
          1901,
          2471,
          2472,
          2317,
          3132,
          3033,
          2991,
          1584,
          1884,
          1999,
          648,
          2070,
          1548,
          1562,
          2136,
          3992,
          4335,
          684,
          606,
          1989,
          1832,
          3039,
          1534,
          1840,
          2484,
          2515,
          3351,
          3788,
          3002,
          3759,
          4197,
          3230,
          1958,
          3508,
          3167,
          2429,
          3200,
          4045,
          3709,
          2603,
          3298,
          3511,
          3774,
          2932,
          2079,
          3349,
          3438,
          3844,
          2717,
          1642,
          3255,
          3769,
          3690,
          3830,
          3404,
          3912,
          3752,
          3991,
          4866,
          2693,
          4028,
          3574,
          4215,
          4343,
          4841,
          4772,
          1693,
          1387,
          1583,
          3652,
          3901,
          4531,
          4739,
          3996,
          3631,
          3228,
          4091,
          3525,
          3499,
          3935,
          3971,
          2770,
          2551,
          3350,
          3607,
          4305,
          2391,
          3003,
          2875,
          3246,
          3070,
          3247,
          2175,
          841,
          1055,
          2273,
          2064,
          2487,
          3181,
          3668,
          3577,
          1540,
          2440,
          3038,
          3510,
          3430,
          3698,
          4272,
          3293,
          3206,
          3793,
          3603,
          3222,
          3066,
          3468,
          3063,
          2833,
          2536,
          2171,
          2688,
          638,
          829,
          2144,
          1509,
          3506,
          2476,
          2763,
          2721,
          1677,
          2406,
          2000,
          1848,
          1663,
          2599,
          3043,
          1150,
          1619,
          1720,
          1843,
          1906,
          1863,
          979,
          1669,
          1698,
          2065,
          2082,
          2373,
          2295,
          2308,
          1825,
          2416,
          2406,
          1826,
          2008,
          1017,
          2131,
          2817,
          1043,
          1996,
          986,
          1389,
          1542,
          1488,
          1742,
          1493,
          1354,
          1395,
          1490,
          1559,
          1710,
          2063,
          1626,
          1335,
          1531,
          1557,
          1128,
          1371,
          1370,
          1149,
          1032,
          1265,
          1261,
          1165,
          1266,
          1032,
          776,
          1093,
          734,
          907,
          1153,
          1254,
          793,
          711,
          1009,
          1136,
          778,
          1027,
          1088,
          781,
          515,
          1177,
          1250,
          970,
          1048,
          1009,
          683,
          504,
          750,
          711,
          725,
          356,
          150,
          307,
          341,
          411,
          588,
          773,
          725,
          344,
          480,
          410,
          541,
          615,
          130,
          379,
          473,
          484,
          342,
          424,
          425,
          526,
          470,
          542,
          458,
          196,
          421,
          461,
          715,
          870,
          935,
          638,
          582,
          332,
          244,
          390,
          347,
          654,
          600,
          450,
          642,
          682,
          550,
          1095,
          1122,
          1151,
          538,
          813,
          706,
          478,
          442,
          476,
          451,
          419,
          652,
          861,
          958,
          1071,
          890,
          1778,
          1603,
          1214,
          1411,
          1567,
          1698,
          1663,
          1255,
          1402,
          1296,
          1475,
          1435,
          1350,
          699,
          1354,
          1134,
          941,
          1058,
          1017,
          1020,
          1192,
          1062,
          549,
          718,
          840,
          827,
          888,
          785,
          700,
          491,
          806,
          1063,
          1366,
          1501,
          1898,
          1135,
          1724,
          1663,
          1955,
          2128,
          2019,
          1379,
          1041,
          1249,
          653,
          653,
          663,
          897,
          1626,
          2249,
          1965,
          539,
          955,
          1070,
          1139,
          1359,
          1160,
          830,
          878,
          1214,
          1675,
          1544,
          2057,
          2742,
          2405,
          1595,
          1706,
          1932,
          1343,
          1522,
          1392,
          773,
          1578,
          1753,
          1092,
          850,
          1169,
          2484,
          3004,
          2431,
          1821,
          567,
          1060,
          2502,
          1970,
          1687,
          1192,
          1439,
          1161,
          1723,
          1108,
          2917,
          1802,
          1095,
          1636,
          1330,
          1456,
          2149,
          2816,
          2630,
          2161,
          2451,
          3033,
          3506,
          2229,
          2824,
          919,
          2119,
          2644,
          2396,
          2662,
          3229,
          3379,
          3297,
          2981,
          3170,
          3177,
          3537,
          3556,
          4230,
          3340,
          2600,
          2126,
          2592,
          2015,
          2829,
          2533,
          3292,
          2831,
          2005,
          2056,
          1681,
          2938,
          3571,
          1863,
          2577,
          2583,
          2325,
          1565,
          1885,
          3850,
          1986,
          3139,
          1791,
          2332,
          2100,
          3021,
          2169,
          2208,
          2764,
          3248,
          3345,
          3465,
          3882,
          3169,
          2568,
          2309,
          3168,
          2215,
          3466,
          3466,
          3080,
          1215,
          2558,
          2269,
          1585,
          2101,
          2570,
          2493,
          1846,
          2742,
          3069,
          3367,
          3186,
          3425,
          3654,
          2881,
          1085,
          2307,
          2298,
          2519,
          2710,
          3560,
          1631,
          1485,
          1737,
          2514,
          1675,
          1910,
          1337,
          1271,
          764,
          1590,
          2222,
          2401,
          2626,
          3198,
          2948,
          2361,
          2453,
          2782,
          2738,
          2466,
          2450,
          2517,
          2350,
          2660,
          1934,
          1321,
          2371,
          3089,
          2296,
          1723,
          2206,
          2161,
          2285,
          2777,
          3183,
          2485,
          2109,
          1948,
          1953,
          2211,
          2503,
          2903,
          2871,
          1885,
          1352,
          1960,
          1876,
          1862,
          2373,
          2226,
          1733,
          1233,
          1604,
          1808,
          2047,
          2372,
          1978,
          1711,
          1880,
          2218,
          1921,
          1748,
          2090,
          1735,
          1746,
          1891,
          1903,
          1933,
          1744,
          1725,
          2136,
          647,
          1445,
          1406,
          1351,
          1528,
          1528,
          1276,
          1374,
          1406,
          1604,
          1551,
          1387,
          977,
          981,
          1115,
          1185,
          1241,
          1340,
          1511,
          1503,
          1035,
          807,
          1172,
          1049,
          1163,
          970,
          929,
          646,
          762,
          750,
          1196,
          1042,
          967,
          800,
          712,
          809,
          1081,
          1003,
          860,
          900,
          928,
          897,
          1065,
          1150,
          1297,
          1235,
          1341,
          971,
          803,
          1176,
          955,
          893,
          834,
          271,
          221,
          207,
          560,
          389,
          674,
          711,
          1065,
          995,
          958,
          833,
          833,
          752,
          522,
          653,
          563,
          566,
          985,
          1081,
          1055,
          1036,
          1223,
          854,
          957,
          975,
          1187,
          1262,
          763,
          756,
          481,
          755,
          945,
          1092,
          1139,
          1096,
          846,
          1080,
          921,
          788,
          839,
          961,
          1288,
          1278,
          1331,
          696,
          887,
          1187,
          1334,
          1390,
          1070,
          1355,
          1414,
          1269,
          950,
          1108,
          988,
          1319,
          1294,
          972,
          843,
          1105,
          1358,
          1463,
          1156,
          1130,
          1002,
          1113,
          1115,
          1184,
          1316,
          1254,
          1123,
          1014,
          1014,
          1191,
          1195,
          1169,
          1195,
          1571,
          1529,
          1408,
          1065,
          1254,
          1261,
          1498,
          1682,
          1649,
          1446,
          1757,
          1960,
          2155,
          2183,
          2910,
          2360,
          2073,
          1871,
          1493,
          1590,
          778,
          511,
          621,
          1267,
          1051,
          2005,
          1652,
          1132,
          1445,
          1241,
          1496,
          1518,
          2134,
          2258,
          2099,
          1351,
          1452,
          1794,
          1628,
          1997,
          2216,
          2218,
          2042,
          1336,
          1438,
          1490,
          2204,
          2588,
          2819,
          2080,
          1613,
          2314,
          2373,
          2031,
          2787,
          1936,
          2086,
          2084,
          2700,
          3241,
          3641,
          3370,
          2336,
          4159,
          3886,
          2249,
          3320,
          3537,
          3725,
          4037,
          4188,
          3588,
          2254,
          1659,
          2666,
          3360,
          3035,
          3155,
          1463,
          2500,
          2623,
          2477,
          2835,
          2225,
          3296,
          1816,
          2614,
          1909,
          2654,
          1715,
          2602,
          3214,
          3407,
          2310,
          3065,
          3094,
          3146,
          3141,
          3651,
          3326,
          2636,
          2962,
          2715,
          3445,
          2037,
          3540,
          3830,
          2582,
          2199,
          3054,
          3085,
          1491,
          3476,
          3226,
          2279,
          3240,
          3213,
          2088,
          3056,
          3169,
          2922,
          2589,
          3142,
          3364,
          3605,
          3498,
          4122,
          3820,
          2977,
          3577,
          3598,
          3089,
          3762,
          3172,
          3694,
          3159,
          2703,
          3326,
          3511,
          2642,
          2856,
          2779,
          2341,
          2965,
          3141,
          3290,
          2951,
          2049,
          2777,
          2496,
          3062,
          3487,
          3088,
          2969,
          3483,
          3459,
          2712,
          3176,
          3307,
          2808,
          2132,
          1357,
          3094,
          2272,
          2628,
          2443,
          2411,
          2058,
          1959,
          1041,
          1862,
          2157,
          1280,
          2205,
          2502,
          2092,
          2707,
          2386,
          2326,
          2500,
          2192,
          1977,
          1659,
          1594,
          2418,
          2445,
          2189,
          1905,
          1642,
          1517,
          1150,
          1795,
          1889,
          2264,
          2380,
          2625,
          1475,
          1415,
          1855,
          1420,
          878,
          1280,
          1965,
          1194,
          883,
          1709,
          1905,
          1879,
          1924,
          1959,
          1562,
          1953,
          1767,
          1912,
          1952,
          2018,
          1845,
          1886,
          2540,
          2302,
          2265,
          2363,
          2436,
          1916,
          2162,
          2020,
          1495,
          2336,
          2205,
          2570,
          2420,
          2631,
          2531,
          2116,
          1749,
          1912,
          2012,
          1258,
          1310,
          1463,
          1753,
          2136,
          1888,
          2068,
          1991,
          1768,
          1550,
          1669,
          1968,
          1651,
          1719,
          1104,
          1428,
          1200,
          1542,
          1259,
          1517,
          1522,
          1238,
          1382,
          972,
          1333,
          1252,
          1598,
          1605,
          1255,
          1111,
          998,
          1072,
          1426,
          1520,
          1508,
          1200,
          686,
          510,
          888,
          848,
          560,
          461,
          330,
          271,
          223,
          580,
          905,
          963,
          1201,
          697,
          467,
          432,
          236,
          659,
          717,
          871,
          888,
          1140,
          1130,
          1158,
          809,
          1010,
          858,
          1064,
          1218,
          929,
          1236,
          1329,
          1161,
          1369,
          1281,
          1329,
          897,
          1255,
          1136,
          1157,
          1245,
          927,
          402,
          352,
          679,
          1021,
          1122,
          1196,
          871,
          727,
          663,
          1024,
          1215,
          968,
          842,
          890,
          919,
          720,
          784,
          1035,
          1029,
          1209,
          1060,
          1055,
          1053,
          1047,
          1218,
          1320,
          1446,
          1227,
          1257,
          984,
          1341,
          1654,
          1607,
          1530,
          952,
          815,
          421,
          809,
          1073,
          1196,
          4832,
          5081,
          1809,
          1073,
          1317,
          1602,
          1513,
          1656,
          1300,
          1360,
          842,
          1672,
          1285,
          1374,
          1530,
          1891,
          2389,
          1460,
          1666,
          1890,
          2199,
          1888,
          1164,
          1590,
          1016,
          2180,
          1541,
          1549,
          1329,
          1223,
          1228,
          873,
          1213,
          1525,
          1528,
          1614,
          1194,
          774,
          1036,
          1465,
          1292,
          1238,
          1356,
          897,
          1218,
          1050,
          1386,
          1688,
          1192,
          1548,
          2377,
          3138,
          1860,
          1592,
          1386,
          1850,
          2162,
          899,
          2554,
          2282,
          1072,
          1498,
          2116,
          2733,
          2519,
          2835,
          3003,
          2060,
          2738,
          1064,
          824,
          1837,
          2063,
          1702,
          1583,
          1139,
          2225,
          1993,
          6022,
          3333,
          3063,
          2972,
          2556,
          2308,
          2671,
          2951,
          3258,
          3470,
          3148,
          2575,
          2702,
          2802,
          3299,
          3741,
          3033,
          2353,
          2650,
          3233,
          2748,
          2769,
          3264,
          3219,
          3061,
          3440,
          3414,
          3530,
          3529,
          3815,
          3758,
          3425,
          3657,
          3717,
          3188,
          2956,
          4163,
          3992,
          3192,
          3439,
          3300,
          3823,
          2015,
          3199,
          2593,
          2900,
          3208,
          2976,
          3652,
          3908,
          4254,
          4155,
          3202,
          4327,
          2805,
          3483,
          3924,
          4585,
          3689,
          3219,
          3484,
          3724,
          3820,
          2665,
          3767,
          3620,
          2230,
          2264,
          2134,
          2839,
          2749,
          2089,
          2504,
          2669,
          1851,
          2454,
          2647,
          2441,
          1386,
          1147,
          1611,
          2472,
          1705,
          2846,
          2989,
          2860,
          2654,
          2681,
          2056,
          2781,
          2313,
          2936,
          3277,
          3028,
          2618,
          2998,
          2806,
          2902,
          1905,
          1706,
          643,
          605,
          608,
          1642,
          1730,
          1869,
          2610,
          2250,
          2047,
          2361,
          2415,
          3062,
          2695,
          2803,
          2360,
          2326,
          2471,
          1185,
          2274,
          2660,
          3098,
          3000,
          2137,
          1659,
          1754,
          2500,
          948,
          2048,
          2000,
          1897,
          2166,
          2451,
          2554,
          2627,
          2443,
          2446,
          2443,
          2464,
          2056,
          1798,
          1974,
          2121,
          2340,
          1778,
          2226,
          2265,
          2241,
          2670,
          1825,
          1288,
          1685,
          1644,
          1735,
          1813,
          1970,
          2088,
          1963,
          1797,
          1434,
          1946,
          1556,
          1677,
          2015,
          1966,
          1412,
          1520,
          1752,
          1083,
          1092,
          1335,
          1053,
          1606,
          1614,
          1770,
          1903,
          1642,
          1395,
          1017,
          1029,
          1107,
          1661,
          1388,
          1218,
          1249,
          1034,
          1675,
          1407,
          1453,
          1802,
          796,
          684,
          681,
          1159,
          734,
          1234,
          739,
          491,
          218,
          108,
          153,
          391,
          553,
          680,
          569,
          626,
          666,
          1045,
          900,
          1232,
          1196,
          1179,
          1125,
          871,
          1252,
          1481,
          1129,
          964,
          503,
          424,
          185,
          338,
          341,
          542,
          706,
          851,
          784,
          672
         ],
         "yaxis": "y"
        }
       ],
       "layout": {
        "legend": {
         "tracegroupgap": 0
        },
        "template": {
         "data": {
          "bar": [
           {
            "error_x": {
             "color": "#2a3f5f"
            },
            "error_y": {
             "color": "#2a3f5f"
            },
            "marker": {
             "line": {
              "color": "white",
              "width": 0.5
             },
             "pattern": {
              "fillmode": "overlay",
              "size": 10,
              "solidity": 0.2
             }
            },
            "type": "bar"
           }
          ],
          "barpolar": [
           {
            "marker": {
             "line": {
              "color": "white",
              "width": 0.5
             },
             "pattern": {
              "fillmode": "overlay",
              "size": 10,
              "solidity": 0.2
             }
            },
            "type": "barpolar"
           }
          ],
          "carpet": [
           {
            "aaxis": {
             "endlinecolor": "#2a3f5f",
             "gridcolor": "#C8D4E3",
             "linecolor": "#C8D4E3",
             "minorgridcolor": "#C8D4E3",
             "startlinecolor": "#2a3f5f"
            },
            "baxis": {
             "endlinecolor": "#2a3f5f",
             "gridcolor": "#C8D4E3",
             "linecolor": "#C8D4E3",
             "minorgridcolor": "#C8D4E3",
             "startlinecolor": "#2a3f5f"
            },
            "type": "carpet"
           }
          ],
          "choropleth": [
           {
            "colorbar": {
             "outlinewidth": 0,
             "ticks": ""
            },
            "type": "choropleth"
           }
          ],
          "contour": [
           {
            "colorbar": {
             "outlinewidth": 0,
             "ticks": ""
            },
            "colorscale": [
             [
              0,
              "#0d0887"
             ],
             [
              0.1111111111111111,
              "#46039f"
             ],
             [
              0.2222222222222222,
              "#7201a8"
             ],
             [
              0.3333333333333333,
              "#9c179e"
             ],
             [
              0.4444444444444444,
              "#bd3786"
             ],
             [
              0.5555555555555556,
              "#d8576b"
             ],
             [
              0.6666666666666666,
              "#ed7953"
             ],
             [
              0.7777777777777778,
              "#fb9f3a"
             ],
             [
              0.8888888888888888,
              "#fdca26"
             ],
             [
              1,
              "#f0f921"
             ]
            ],
            "type": "contour"
           }
          ],
          "contourcarpet": [
           {
            "colorbar": {
             "outlinewidth": 0,
             "ticks": ""
            },
            "type": "contourcarpet"
           }
          ],
          "heatmap": [
           {
            "colorbar": {
             "outlinewidth": 0,
             "ticks": ""
            },
            "colorscale": [
             [
              0,
              "#0d0887"
             ],
             [
              0.1111111111111111,
              "#46039f"
             ],
             [
              0.2222222222222222,
              "#7201a8"
             ],
             [
              0.3333333333333333,
              "#9c179e"
             ],
             [
              0.4444444444444444,
              "#bd3786"
             ],
             [
              0.5555555555555556,
              "#d8576b"
             ],
             [
              0.6666666666666666,
              "#ed7953"
             ],
             [
              0.7777777777777778,
              "#fb9f3a"
             ],
             [
              0.8888888888888888,
              "#fdca26"
             ],
             [
              1,
              "#f0f921"
             ]
            ],
            "type": "heatmap"
           }
          ],
          "heatmapgl": [
           {
            "colorbar": {
             "outlinewidth": 0,
             "ticks": ""
            },
            "colorscale": [
             [
              0,
              "#0d0887"
             ],
             [
              0.1111111111111111,
              "#46039f"
             ],
             [
              0.2222222222222222,
              "#7201a8"
             ],
             [
              0.3333333333333333,
              "#9c179e"
             ],
             [
              0.4444444444444444,
              "#bd3786"
             ],
             [
              0.5555555555555556,
              "#d8576b"
             ],
             [
              0.6666666666666666,
              "#ed7953"
             ],
             [
              0.7777777777777778,
              "#fb9f3a"
             ],
             [
              0.8888888888888888,
              "#fdca26"
             ],
             [
              1,
              "#f0f921"
             ]
            ],
            "type": "heatmapgl"
           }
          ],
          "histogram": [
           {
            "marker": {
             "pattern": {
              "fillmode": "overlay",
              "size": 10,
              "solidity": 0.2
             }
            },
            "type": "histogram"
           }
          ],
          "histogram2d": [
           {
            "colorbar": {
             "outlinewidth": 0,
             "ticks": ""
            },
            "colorscale": [
             [
              0,
              "#0d0887"
             ],
             [
              0.1111111111111111,
              "#46039f"
             ],
             [
              0.2222222222222222,
              "#7201a8"
             ],
             [
              0.3333333333333333,
              "#9c179e"
             ],
             [
              0.4444444444444444,
              "#bd3786"
             ],
             [
              0.5555555555555556,
              "#d8576b"
             ],
             [
              0.6666666666666666,
              "#ed7953"
             ],
             [
              0.7777777777777778,
              "#fb9f3a"
             ],
             [
              0.8888888888888888,
              "#fdca26"
             ],
             [
              1,
              "#f0f921"
             ]
            ],
            "type": "histogram2d"
           }
          ],
          "histogram2dcontour": [
           {
            "colorbar": {
             "outlinewidth": 0,
             "ticks": ""
            },
            "colorscale": [
             [
              0,
              "#0d0887"
             ],
             [
              0.1111111111111111,
              "#46039f"
             ],
             [
              0.2222222222222222,
              "#7201a8"
             ],
             [
              0.3333333333333333,
              "#9c179e"
             ],
             [
              0.4444444444444444,
              "#bd3786"
             ],
             [
              0.5555555555555556,
              "#d8576b"
             ],
             [
              0.6666666666666666,
              "#ed7953"
             ],
             [
              0.7777777777777778,
              "#fb9f3a"
             ],
             [
              0.8888888888888888,
              "#fdca26"
             ],
             [
              1,
              "#f0f921"
             ]
            ],
            "type": "histogram2dcontour"
           }
          ],
          "mesh3d": [
           {
            "colorbar": {
             "outlinewidth": 0,
             "ticks": ""
            },
            "type": "mesh3d"
           }
          ],
          "parcoords": [
           {
            "line": {
             "colorbar": {
              "outlinewidth": 0,
              "ticks": ""
             }
            },
            "type": "parcoords"
           }
          ],
          "pie": [
           {
            "automargin": true,
            "type": "pie"
           }
          ],
          "scatter": [
           {
            "fillpattern": {
             "fillmode": "overlay",
             "size": 10,
             "solidity": 0.2
            },
            "type": "scatter"
           }
          ],
          "scatter3d": [
           {
            "line": {
             "colorbar": {
              "outlinewidth": 0,
              "ticks": ""
             }
            },
            "marker": {
             "colorbar": {
              "outlinewidth": 0,
              "ticks": ""
             }
            },
            "type": "scatter3d"
           }
          ],
          "scattercarpet": [
           {
            "marker": {
             "colorbar": {
              "outlinewidth": 0,
              "ticks": ""
             }
            },
            "type": "scattercarpet"
           }
          ],
          "scattergeo": [
           {
            "marker": {
             "colorbar": {
              "outlinewidth": 0,
              "ticks": ""
             }
            },
            "type": "scattergeo"
           }
          ],
          "scattergl": [
           {
            "marker": {
             "colorbar": {
              "outlinewidth": 0,
              "ticks": ""
             }
            },
            "type": "scattergl"
           }
          ],
          "scattermapbox": [
           {
            "marker": {
             "colorbar": {
              "outlinewidth": 0,
              "ticks": ""
             }
            },
            "type": "scattermapbox"
           }
          ],
          "scatterpolar": [
           {
            "marker": {
             "colorbar": {
              "outlinewidth": 0,
              "ticks": ""
             }
            },
            "type": "scatterpolar"
           }
          ],
          "scatterpolargl": [
           {
            "marker": {
             "colorbar": {
              "outlinewidth": 0,
              "ticks": ""
             }
            },
            "type": "scatterpolargl"
           }
          ],
          "scatterternary": [
           {
            "marker": {
             "colorbar": {
              "outlinewidth": 0,
              "ticks": ""
             }
            },
            "type": "scatterternary"
           }
          ],
          "surface": [
           {
            "colorbar": {
             "outlinewidth": 0,
             "ticks": ""
            },
            "colorscale": [
             [
              0,
              "#0d0887"
             ],
             [
              0.1111111111111111,
              "#46039f"
             ],
             [
              0.2222222222222222,
              "#7201a8"
             ],
             [
              0.3333333333333333,
              "#9c179e"
             ],
             [
              0.4444444444444444,
              "#bd3786"
             ],
             [
              0.5555555555555556,
              "#d8576b"
             ],
             [
              0.6666666666666666,
              "#ed7953"
             ],
             [
              0.7777777777777778,
              "#fb9f3a"
             ],
             [
              0.8888888888888888,
              "#fdca26"
             ],
             [
              1,
              "#f0f921"
             ]
            ],
            "type": "surface"
           }
          ],
          "table": [
           {
            "cells": {
             "fill": {
              "color": "#EBF0F8"
             },
             "line": {
              "color": "white"
             }
            },
            "header": {
             "fill": {
              "color": "#C8D4E3"
             },
             "line": {
              "color": "white"
             }
            },
            "type": "table"
           }
          ]
         },
         "layout": {
          "annotationdefaults": {
           "arrowcolor": "#2a3f5f",
           "arrowhead": 0,
           "arrowwidth": 1
          },
          "autotypenumbers": "strict",
          "coloraxis": {
           "colorbar": {
            "outlinewidth": 0,
            "ticks": ""
           }
          },
          "colorscale": {
           "diverging": [
            [
             0,
             "#8e0152"
            ],
            [
             0.1,
             "#c51b7d"
            ],
            [
             0.2,
             "#de77ae"
            ],
            [
             0.3,
             "#f1b6da"
            ],
            [
             0.4,
             "#fde0ef"
            ],
            [
             0.5,
             "#f7f7f7"
            ],
            [
             0.6,
             "#e6f5d0"
            ],
            [
             0.7,
             "#b8e186"
            ],
            [
             0.8,
             "#7fbc41"
            ],
            [
             0.9,
             "#4d9221"
            ],
            [
             1,
             "#276419"
            ]
           ],
           "sequential": [
            [
             0,
             "#0d0887"
            ],
            [
             0.1111111111111111,
             "#46039f"
            ],
            [
             0.2222222222222222,
             "#7201a8"
            ],
            [
             0.3333333333333333,
             "#9c179e"
            ],
            [
             0.4444444444444444,
             "#bd3786"
            ],
            [
             0.5555555555555556,
             "#d8576b"
            ],
            [
             0.6666666666666666,
             "#ed7953"
            ],
            [
             0.7777777777777778,
             "#fb9f3a"
            ],
            [
             0.8888888888888888,
             "#fdca26"
            ],
            [
             1,
             "#f0f921"
            ]
           ],
           "sequentialminus": [
            [
             0,
             "#0d0887"
            ],
            [
             0.1111111111111111,
             "#46039f"
            ],
            [
             0.2222222222222222,
             "#7201a8"
            ],
            [
             0.3333333333333333,
             "#9c179e"
            ],
            [
             0.4444444444444444,
             "#bd3786"
            ],
            [
             0.5555555555555556,
             "#d8576b"
            ],
            [
             0.6666666666666666,
             "#ed7953"
            ],
            [
             0.7777777777777778,
             "#fb9f3a"
            ],
            [
             0.8888888888888888,
             "#fdca26"
            ],
            [
             1,
             "#f0f921"
            ]
           ]
          },
          "colorway": [
           "#636efa",
           "#EF553B",
           "#00cc96",
           "#ab63fa",
           "#FFA15A",
           "#19d3f3",
           "#FF6692",
           "#B6E880",
           "#FF97FF",
           "#FECB52"
          ],
          "font": {
           "color": "#2a3f5f"
          },
          "geo": {
           "bgcolor": "white",
           "lakecolor": "white",
           "landcolor": "white",
           "showlakes": true,
           "showland": true,
           "subunitcolor": "#C8D4E3"
          },
          "hoverlabel": {
           "align": "left"
          },
          "hovermode": "closest",
          "mapbox": {
           "style": "light"
          },
          "paper_bgcolor": "white",
          "plot_bgcolor": "white",
          "polar": {
           "angularaxis": {
            "gridcolor": "#EBF0F8",
            "linecolor": "#EBF0F8",
            "ticks": ""
           },
           "bgcolor": "white",
           "radialaxis": {
            "gridcolor": "#EBF0F8",
            "linecolor": "#EBF0F8",
            "ticks": ""
           }
          },
          "scene": {
           "xaxis": {
            "backgroundcolor": "white",
            "gridcolor": "#DFE8F3",
            "gridwidth": 2,
            "linecolor": "#EBF0F8",
            "showbackground": true,
            "ticks": "",
            "zerolinecolor": "#EBF0F8"
           },
           "yaxis": {
            "backgroundcolor": "white",
            "gridcolor": "#DFE8F3",
            "gridwidth": 2,
            "linecolor": "#EBF0F8",
            "showbackground": true,
            "ticks": "",
            "zerolinecolor": "#EBF0F8"
           },
           "zaxis": {
            "backgroundcolor": "white",
            "gridcolor": "#DFE8F3",
            "gridwidth": 2,
            "linecolor": "#EBF0F8",
            "showbackground": true,
            "ticks": "",
            "zerolinecolor": "#EBF0F8"
           }
          },
          "shapedefaults": {
           "line": {
            "color": "#2a3f5f"
           }
          },
          "ternary": {
           "aaxis": {
            "gridcolor": "#DFE8F3",
            "linecolor": "#A2B1C6",
            "ticks": ""
           },
           "baxis": {
            "gridcolor": "#DFE8F3",
            "linecolor": "#A2B1C6",
            "ticks": ""
           },
           "bgcolor": "white",
           "caxis": {
            "gridcolor": "#DFE8F3",
            "linecolor": "#A2B1C6",
            "ticks": ""
           }
          },
          "title": {
           "x": 0.05
          },
          "xaxis": {
           "automargin": true,
           "gridcolor": "#EBF0F8",
           "linecolor": "#EBF0F8",
           "ticks": "",
           "title": {
            "standoff": 15
           },
           "zerolinecolor": "#EBF0F8",
           "zerolinewidth": 2
          },
          "yaxis": {
           "automargin": true,
           "gridcolor": "#EBF0F8",
           "linecolor": "#EBF0F8",
           "ticks": "",
           "title": {
            "standoff": 15
           },
           "zerolinecolor": "#EBF0F8",
           "zerolinewidth": 2
          }
         }
        },
        "title": {
         "text": "Tägliche Anzahl der Fahrten (2020-2023)",
         "x": 0.5,
         "xanchor": "center",
         "y": 0.9,
         "yanchor": "top"
        },
        "xaxis": {
         "anchor": "y",
         "domain": [
          0,
          1
         ],
         "title": {
          "text": "Datum"
         }
        },
        "yaxis": {
         "anchor": "x",
         "domain": [
          0,
          1
         ],
         "title": {
          "text": "Fahrten"
         }
        }
       }
      }
     },
     "metadata": {},
     "output_type": "display_data"
    }
   ],
   "source": [
    "#Linienplot der täglichen Anzahl der Fahrten\n",
    "fig_daily = px.line(\n",
    "    daily_counts, \n",
    "    x='DATE', \n",
    "    y='DAILY_COUNTS', \n",
    "    title='Tägliche Anzahl der Fahrten (2020-2023)', \n",
    "    labels={'DAILY_COUNTS': 'Fahrten', 'DATE': 'Datum'},\n",
    "    template=\"plotly_white\"\n",
    ")\n",
    "\n",
    "# Titel in die Mitte setzen\n",
    "fig_daily.update_layout(\n",
    "    title={\n",
    "        'text': \"Tägliche Anzahl der Fahrten (2020-2023)\",\n",
    "        'y': 0.9,  #Y-Position des Titels\n",
    "        'x': 0.5,  #X-Position des Titels (zentriert)\n",
    "        'xanchor': 'center',\n",
    "        'yanchor': 'top'\n",
    "    }\n",
    ")\n",
    "\n",
    "fig_daily.show()"
   ]
  },
  {
   "cell_type": "markdown",
   "metadata": {},
   "source": [
    "## Prognose mit Prophet"
   ]
  },
  {
   "cell_type": "code",
   "execution_count": 34,
   "metadata": {},
   "outputs": [
    {
     "name": "stderr",
     "output_type": "stream",
     "text": [
      "22:40:02 - cmdstanpy - INFO - Chain [1] start processing\n",
      "22:40:02 - cmdstanpy - INFO - Chain [1] done processing\n"
     ]
    },
    {
     "data": {
      "image/png": "[encoded data removed]",
      "text/plain": [
       "<Figure size 1400x400 with 1 Axes>"
      ]
     },
     "metadata": {},
     "output_type": "display_data"
    },
    {
     "data": {
      "image/png": "[encoded data removed]",
      "text/plain": [
       "<Figure size 700x600 with 3 Axes>"
      ]
     },
     "metadata": {},
     "output_type": "display_data"
    }
   ],
   "source": [
    "#Daten für Prophet vorbereiten\n",
    "prophet_data = daily_counts.rename(columns={'DATE': 'ds', 'DAILY_COUNTS': 'y'})\n",
    "\n",
    "#Prophet-Modell initialisieren und trainieren\n",
    "model = Prophet(growth='linear', seasonality_mode='additive', interval_width=0.90)\n",
    "model.fit(prophet_data)\n",
    "\n",
    "#Zukunftsdaten erstellen\n",
    "future = model.make_future_dataframe(periods=365, freq='D', include_history=True)  #Prognose für ein Jahr\n",
    "#future.tail()\n",
    "\n",
    "forecast = model.predict(future)\n",
    "#forecast.tail()\n",
    "\n",
    "#Prognose visualisieren\n",
    "fig_forecast = model.plot(forecast, figsize=(14, 4))\n",
    "fig_components = model.plot_components(forecast, figsize=(7, 6))"
   ]
  },
  {
   "cell_type": "code",
   "execution_count": 39,
   "metadata": {},
   "outputs": [
    {
     "data": {
      "application/vnd.plotly.v1+json": {
       "config": {
        "plotlyServerURL": "https://plot.ly"
       },
       "data": [
        {
         "hovertemplate": "Stunde des Tages=%{x}<br>Fahrten=%{y}<extra></extra>",
         "legendgroup": "",
         "line": {
          "color": "#636efa",
          "dash": "solid"
         },
         "marker": {
          "symbol": "circle"
         },
         "mode": "lines+markers",
         "name": "",
         "orientation": "v",
         "showlegend": false,
         "type": "scatter",
         "x": [
          0,
          1,
          2,
          3,
          4,
          5,
          6,
          7,
          8,
          9,
          10,
          11,
          12,
          13,
          14,
          15,
          16,
          17,
          18,
          19,
          20,
          21,
          22,
          23
         ],
         "xaxis": "x",
         "y": [
          46518,
          37872,
          26546,
          16795,
          10826,
          11753,
          27904,
          83628,
          152216,
          115339,
          101692,
          123068,
          155379,
          160439,
          162418,
          174875,
          203678,
          248001,
          256033,
          203739,
          137771,
          101267,
          90261,
          69487
         ],
         "yaxis": "y"
        }
       ],
       "layout": {
        "legend": {
         "tracegroupgap": 0
        },
        "template": {
         "data": {
          "bar": [
           {
            "error_x": {
             "color": "#2a3f5f"
            },
            "error_y": {
             "color": "#2a3f5f"
            },
            "marker": {
             "line": {
              "color": "white",
              "width": 0.5
             },
             "pattern": {
              "fillmode": "overlay",
              "size": 10,
              "solidity": 0.2
             }
            },
            "type": "bar"
           }
          ],
          "barpolar": [
           {
            "marker": {
             "line": {
              "color": "white",
              "width": 0.5
             },
             "pattern": {
              "fillmode": "overlay",
              "size": 10,
              "solidity": 0.2
             }
            },
            "type": "barpolar"
           }
          ],
          "carpet": [
           {
            "aaxis": {
             "endlinecolor": "#2a3f5f",
             "gridcolor": "#C8D4E3",
             "linecolor": "#C8D4E3",
             "minorgridcolor": "#C8D4E3",
             "startlinecolor": "#2a3f5f"
            },
            "baxis": {
             "endlinecolor": "#2a3f5f",
             "gridcolor": "#C8D4E3",
             "linecolor": "#C8D4E3",
             "minorgridcolor": "#C8D4E3",
             "startlinecolor": "#2a3f5f"
            },
            "type": "carpet"
           }
          ],
          "choropleth": [
           {
            "colorbar": {
             "outlinewidth": 0,
             "ticks": ""
            },
            "type": "choropleth"
           }
          ],
          "contour": [
           {
            "colorbar": {
             "outlinewidth": 0,
             "ticks": ""
            },
            "colorscale": [
             [
              0,
              "#0d0887"
             ],
             [
              0.1111111111111111,
              "#46039f"
             ],
             [
              0.2222222222222222,
              "#7201a8"
             ],
             [
              0.3333333333333333,
              "#9c179e"
             ],
             [
              0.4444444444444444,
              "#bd3786"
             ],
             [
              0.5555555555555556,
              "#d8576b"
             ],
             [
              0.6666666666666666,
              "#ed7953"
             ],
             [
              0.7777777777777778,
              "#fb9f3a"
             ],
             [
              0.8888888888888888,
              "#fdca26"
             ],
             [
              1,
              "#f0f921"
             ]
            ],
            "type": "contour"
           }
          ],
          "contourcarpet": [
           {
            "colorbar": {
             "outlinewidth": 0,
             "ticks": ""
            },
            "type": "contourcarpet"
           }
          ],
          "heatmap": [
           {
            "colorbar": {
             "outlinewidth": 0,
             "ticks": ""
            },
            "colorscale": [
             [
              0,
              "#0d0887"
             ],
             [
              0.1111111111111111,
              "#46039f"
             ],
             [
              0.2222222222222222,
              "#7201a8"
             ],
             [
              0.3333333333333333,
              "#9c179e"
             ],
             [
              0.4444444444444444,
              "#bd3786"
             ],
             [
              0.5555555555555556,
              "#d8576b"
             ],
             [
              0.6666666666666666,
              "#ed7953"
             ],
             [
              0.7777777777777778,
              "#fb9f3a"
             ],
             [
              0.8888888888888888,
              "#fdca26"
             ],
             [
              1,
              "#f0f921"
             ]
            ],
            "type": "heatmap"
           }
          ],
          "heatmapgl": [
           {
            "colorbar": {
             "outlinewidth": 0,
             "ticks": ""
            },
            "colorscale": [
             [
              0,
              "#0d0887"
             ],
             [
              0.1111111111111111,
              "#46039f"
             ],
             [
              0.2222222222222222,
              "#7201a8"
             ],
             [
              0.3333333333333333,
              "#9c179e"
             ],
             [
              0.4444444444444444,
              "#bd3786"
             ],
             [
              0.5555555555555556,
              "#d8576b"
             ],
             [
              0.6666666666666666,
              "#ed7953"
             ],
             [
              0.7777777777777778,
              "#fb9f3a"
             ],
             [
              0.8888888888888888,
              "#fdca26"
             ],
             [
              1,
              "#f0f921"
             ]
            ],
            "type": "heatmapgl"
           }
          ],
          "histogram": [
           {
            "marker": {
             "pattern": {
              "fillmode": "overlay",
              "size": 10,
              "solidity": 0.2
             }
            },
            "type": "histogram"
           }
          ],
          "histogram2d": [
           {
            "colorbar": {
             "outlinewidth": 0,
             "ticks": ""
            },
            "colorscale": [
             [
              0,
              "#0d0887"
             ],
             [
              0.1111111111111111,
              "#46039f"
             ],
             [
              0.2222222222222222,
              "#7201a8"
             ],
             [
              0.3333333333333333,
              "#9c179e"
             ],
             [
              0.4444444444444444,
              "#bd3786"
             ],
             [
              0.5555555555555556,
              "#d8576b"
             ],
             [
              0.6666666666666666,
              "#ed7953"
             ],
             [
              0.7777777777777778,
              "#fb9f3a"
             ],
             [
              0.8888888888888888,
              "#fdca26"
             ],
             [
              1,
              "#f0f921"
             ]
            ],
            "type": "histogram2d"
           }
          ],
          "histogram2dcontour": [
           {
            "colorbar": {
             "outlinewidth": 0,
             "ticks": ""
            },
            "colorscale": [
             [
              0,
              "#0d0887"
             ],
             [
              0.1111111111111111,
              "#46039f"
             ],
             [
              0.2222222222222222,
              "#7201a8"
             ],
             [
              0.3333333333333333,
              "#9c179e"
             ],
             [
              0.4444444444444444,
              "#bd3786"
             ],
             [
              0.5555555555555556,
              "#d8576b"
             ],
             [
              0.6666666666666666,
              "#ed7953"
             ],
             [
              0.7777777777777778,
              "#fb9f3a"
             ],
             [
              0.8888888888888888,
              "#fdca26"
             ],
             [
              1,
              "#f0f921"
             ]
            ],
            "type": "histogram2dcontour"
           }
          ],
          "mesh3d": [
           {
            "colorbar": {
             "outlinewidth": 0,
             "ticks": ""
            },
            "type": "mesh3d"
           }
          ],
          "parcoords": [
           {
            "line": {
             "colorbar": {
              "outlinewidth": 0,
              "ticks": ""
             }
            },
            "type": "parcoords"
           }
          ],
          "pie": [
           {
            "automargin": true,
            "type": "pie"
           }
          ],
          "scatter": [
           {
            "fillpattern": {
             "fillmode": "overlay",
             "size": 10,
             "solidity": 0.2
            },
            "type": "scatter"
           }
          ],
          "scatter3d": [
           {
            "line": {
             "colorbar": {
              "outlinewidth": 0,
              "ticks": ""
             }
            },
            "marker": {
             "colorbar": {
              "outlinewidth": 0,
              "ticks": ""
             }
            },
            "type": "scatter3d"
           }
          ],
          "scattercarpet": [
           {
            "marker": {
             "colorbar": {
              "outlinewidth": 0,
              "ticks": ""
             }
            },
            "type": "scattercarpet"
           }
          ],
          "scattergeo": [
           {
            "marker": {
             "colorbar": {
              "outlinewidth": 0,
              "ticks": ""
             }
            },
            "type": "scattergeo"
           }
          ],
          "scattergl": [
           {
            "marker": {
             "colorbar": {
              "outlinewidth": 0,
              "ticks": ""
             }
            },
            "type": "scattergl"
           }
          ],
          "scattermapbox": [
           {
            "marker": {
             "colorbar": {
              "outlinewidth": 0,
              "ticks": ""
             }
            },
            "type": "scattermapbox"
           }
          ],
          "scatterpolar": [
           {
            "marker": {
             "colorbar": {
              "outlinewidth": 0,
              "ticks": ""
             }
            },
            "type": "scatterpolar"
           }
          ],
          "scatterpolargl": [
           {
            "marker": {
             "colorbar": {
              "outlinewidth": 0,
              "ticks": ""
             }
            },
            "type": "scatterpolargl"
           }
          ],
          "scatterternary": [
           {
            "marker": {
             "colorbar": {
              "outlinewidth": 0,
              "ticks": ""
             }
            },
            "type": "scatterternary"
           }
          ],
          "surface": [
           {
            "colorbar": {
             "outlinewidth": 0,
             "ticks": ""
            },
            "colorscale": [
             [
              0,
              "#0d0887"
             ],
             [
              0.1111111111111111,
              "#46039f"
             ],
             [
              0.2222222222222222,
              "#7201a8"
             ],
             [
              0.3333333333333333,
              "#9c179e"
             ],
             [
              0.4444444444444444,
              "#bd3786"
             ],
             [
              0.5555555555555556,
              "#d8576b"
             ],
             [
              0.6666666666666666,
              "#ed7953"
             ],
             [
              0.7777777777777778,
              "#fb9f3a"
             ],
             [
              0.8888888888888888,
              "#fdca26"
             ],
             [
              1,
              "#f0f921"
             ]
            ],
            "type": "surface"
           }
          ],
          "table": [
           {
            "cells": {
             "fill": {
              "color": "#EBF0F8"
             },
             "line": {
              "color": "white"
             }
            },
            "header": {
             "fill": {
              "color": "#C8D4E3"
             },
             "line": {
              "color": "white"
             }
            },
            "type": "table"
           }
          ]
         },
         "layout": {
          "annotationdefaults": {
           "arrowcolor": "#2a3f5f",
           "arrowhead": 0,
           "arrowwidth": 1
          },
          "autotypenumbers": "strict",
          "coloraxis": {
           "colorbar": {
            "outlinewidth": 0,
            "ticks": ""
           }
          },
          "colorscale": {
           "diverging": [
            [
             0,
             "#8e0152"
            ],
            [
             0.1,
             "#c51b7d"
            ],
            [
             0.2,
             "#de77ae"
            ],
            [
             0.3,
             "#f1b6da"
            ],
            [
             0.4,
             "#fde0ef"
            ],
            [
             0.5,
             "#f7f7f7"
            ],
            [
             0.6,
             "#e6f5d0"
            ],
            [
             0.7,
             "#b8e186"
            ],
            [
             0.8,
             "#7fbc41"
            ],
            [
             0.9,
             "#4d9221"
            ],
            [
             1,
             "#276419"
            ]
           ],
           "sequential": [
            [
             0,
             "#0d0887"
            ],
            [
             0.1111111111111111,
             "#46039f"
            ],
            [
             0.2222222222222222,
             "#7201a8"
            ],
            [
             0.3333333333333333,
             "#9c179e"
            ],
            [
             0.4444444444444444,
             "#bd3786"
            ],
            [
             0.5555555555555556,
             "#d8576b"
            ],
            [
             0.6666666666666666,
             "#ed7953"
            ],
            [
             0.7777777777777778,
             "#fb9f3a"
            ],
            [
             0.8888888888888888,
             "#fdca26"
            ],
            [
             1,
             "#f0f921"
            ]
           ],
           "sequentialminus": [
            [
             0,
             "#0d0887"
            ],
            [
             0.1111111111111111,
             "#46039f"
            ],
            [
             0.2222222222222222,
             "#7201a8"
            ],
            [
             0.3333333333333333,
             "#9c179e"
            ],
            [
             0.4444444444444444,
             "#bd3786"
            ],
            [
             0.5555555555555556,
             "#d8576b"
            ],
            [
             0.6666666666666666,
             "#ed7953"
            ],
            [
             0.7777777777777778,
             "#fb9f3a"
            ],
            [
             0.8888888888888888,
             "#fdca26"
            ],
            [
             1,
             "#f0f921"
            ]
           ]
          },
          "colorway": [
           "#636efa",
           "#EF553B",
           "#00cc96",
           "#ab63fa",
           "#FFA15A",
           "#19d3f3",
           "#FF6692",
           "#B6E880",
           "#FF97FF",
           "#FECB52"
          ],
          "font": {
           "color": "#2a3f5f"
          },
          "geo": {
           "bgcolor": "white",
           "lakecolor": "white",
           "landcolor": "white",
           "showlakes": true,
           "showland": true,
           "subunitcolor": "#C8D4E3"
          },
          "hoverlabel": {
           "align": "left"
          },
          "hovermode": "closest",
          "mapbox": {
           "style": "light"
          },
          "paper_bgcolor": "white",
          "plot_bgcolor": "white",
          "polar": {
           "angularaxis": {
            "gridcolor": "#EBF0F8",
            "linecolor": "#EBF0F8",
            "ticks": ""
           },
           "bgcolor": "white",
           "radialaxis": {
            "gridcolor": "#EBF0F8",
            "linecolor": "#EBF0F8",
            "ticks": ""
           }
          },
          "scene": {
           "xaxis": {
            "backgroundcolor": "white",
            "gridcolor": "#DFE8F3",
            "gridwidth": 2,
            "linecolor": "#EBF0F8",
            "showbackground": true,
            "ticks": "",
            "zerolinecolor": "#EBF0F8"
           },
           "yaxis": {
            "backgroundcolor": "white",
            "gridcolor": "#DFE8F3",
            "gridwidth": 2,
            "linecolor": "#EBF0F8",
            "showbackground": true,
            "ticks": "",
            "zerolinecolor": "#EBF0F8"
           },
           "zaxis": {
            "backgroundcolor": "white",
            "gridcolor": "#DFE8F3",
            "gridwidth": 2,
            "linecolor": "#EBF0F8",
            "showbackground": true,
            "ticks": "",
            "zerolinecolor": "#EBF0F8"
           }
          },
          "shapedefaults": {
           "line": {
            "color": "#2a3f5f"
           }
          },
          "ternary": {
           "aaxis": {
            "gridcolor": "#DFE8F3",
            "linecolor": "#A2B1C6",
            "ticks": ""
           },
           "baxis": {
            "gridcolor": "#DFE8F3",
            "linecolor": "#A2B1C6",
            "ticks": ""
           },
           "bgcolor": "white",
           "caxis": {
            "gridcolor": "#DFE8F3",
            "linecolor": "#A2B1C6",
            "ticks": ""
           }
          },
          "title": {
           "x": 0.05
          },
          "xaxis": {
           "automargin": true,
           "gridcolor": "#EBF0F8",
           "linecolor": "#EBF0F8",
           "ticks": "",
           "title": {
            "standoff": 15
           },
           "zerolinecolor": "#EBF0F8",
           "zerolinewidth": 2
          },
          "yaxis": {
           "automargin": true,
           "gridcolor": "#EBF0F8",
           "linecolor": "#EBF0F8",
           "ticks": "",
           "title": {
            "standoff": 15
           },
           "zerolinecolor": "#EBF0F8",
           "zerolinewidth": 2
          }
         }
        },
        "title": {
         "text": "Stündliche Anzahl der Fahrten (2020-2023)",
         "x": 0.5,
         "xanchor": "center",
         "y": 0.9,
         "yanchor": "top"
        },
        "xaxis": {
         "anchor": "y",
         "domain": [
          0,
          1
         ],
         "title": {
          "text": "Stunde des Tages"
         }
        },
        "yaxis": {
         "anchor": "x",
         "domain": [
          0,
          1
         ],
         "title": {
          "text": "Fahrten"
         }
        }
       }
      }
     },
     "metadata": {},
     "output_type": "display_data"
    }
   ],
   "source": [
    "#Anzahl der Fahrten pro Stunde\n",
    "hourly_counts = df.groupby('HOUR').size().reset_index(name='HOURLY_COUNTS')\n",
    "\n",
    "fig_hourly = px.line(\n",
    "    hourly_counts, \n",
    "    x='HOUR', \n",
    "    y='HOURLY_COUNTS', \n",
    "    title='Stündliche Anzahl der Fahrten (2020-2023)', \n",
    "    labels={'HOURLY_COUNTS': 'Fahrten', 'HOUR': 'Stunde des Tages'},\n",
    "    template=\"plotly_white\"\n",
    ")\n",
    "\n",
    "fig_hourly.update_traces(mode='lines+markers')\n",
    "\n",
    "#Titel in die Mitte setzen\n",
    "fig_hourly.update_layout(\n",
    "    title={\n",
    "        'text': \"Stündliche Anzahl der Fahrten (2020-2023)\",\n",
    "        'y': 0.9,  #Y-Position des Titels\n",
    "        'x': 0.5,  #X-Position des Titels (zentriert)\n",
    "        'xanchor': 'center',\n",
    "        'yanchor': 'top'\n",
    "    }\n",
    ")\n",
    "\n",
    "fig_hourly.show()"
   ]
  },
  {
   "cell_type": "code",
   "execution_count": 40,
   "metadata": {},
   "outputs": [
    {
     "name": "stdout",
     "output_type": "stream",
     "text": [
      "<class 'pandas.core.frame.DataFrame'>\n",
      "Index: 2717505 entries, 0 to 2760574\n",
      "Data columns (total 16 columns):\n",
      " #   Column               Dtype          \n",
      "---  ------               -----          \n",
      " 0   STARTTIME            datetime64[ns] \n",
      " 1   ENDTIME              datetime64[ns] \n",
      " 2   STARTLAT             float64        \n",
      " 3   STARTLON             float64        \n",
      " 4   ENDLAT               float64        \n",
      " 5   ENDLON               float64        \n",
      " 6   RENTAL_IS_STATION    Int64          \n",
      " 7   RENTAL_STATION_NAME  object         \n",
      " 8   RETURN_IS_STATION    Int64          \n",
      " 9   RETURN_STATION_NAME  object         \n",
      " 10  DURATION             timedelta64[ns]\n",
      " 11  DURATION_MIN         float64        \n",
      " 12  DATE                 object         \n",
      " 13  MIN                  int32          \n",
      " 14  HOUR                 int32          \n",
      " 15  WEEKDAY              object         \n",
      "dtypes: Int64(2), datetime64[ns](2), float64(5), int32(2), object(4), timedelta64[ns](1)\n",
      "memory usage: 401.4+ MB\n"
     ]
    }
   ],
   "source": [
    "df\n",
    "df.info()"
   ]
  },
  {
   "cell_type": "code",
   "execution_count": null,
   "metadata": {},
   "outputs": [],
   "source": []
  },
  {
   "cell_type": "markdown",
   "metadata": {},
   "source": [
    "Frage: Wie lange mieten die Leute die Fahrräder?"
   ]
  },
  {
   "cell_type": "code",
   "execution_count": 41,
   "metadata": {},
   "outputs": [
    {
     "name": "stdout",
     "output_type": "stream",
     "text": [
      "               Count\n",
      "DURATION_MIN        \n",
      "0-2 min        73541\n",
      "2-5 min       367006\n",
      "5-10 min      747212\n",
      "10-15 min     537997\n",
      "15-30 min     652548\n",
      "30-60 min     207552\n",
      "1-4h           92395\n",
      "4h-1day        29335\n",
      "1day+           5856\n"
     ]
    },
    {
     "data": {
      "image/png": "[encoded data removed]",
      "text/plain": [
       "<Figure size 700x500 with 1 Axes>"
      ]
     },
     "metadata": {},
     "output_type": "display_data"
    }
   ],
   "source": [
    "#Create a histogram as table\n",
    "#Define the bin edges and labels\n",
    "bin_edges = [0, 2, 5, 10, 15, 30, 60, 240, 1440, np.inf]\n",
    "bin_labels = ['0-2 min','2-5 min', '5-10 min', '10-15 min', '15-30 min', '30-60 min', '1-4h', '4h-1day', '1day+']\n",
    "\n",
    "#Create a new column with the binned values\n",
    "df['DURATION_MIN'] = pd.cut(df['DURATION_MIN'], bins=bin_edges, labels=bin_labels)\n",
    "duration_value_counts = df['DURATION_MIN'].value_counts()\n",
    "\n",
    "#Convert the value counts to a dataframe and sort by index\n",
    "duration_histogram_df = pd.DataFrame({'Count': duration_value_counts}).sort_index()\n",
    "print(duration_histogram_df)\n",
    "\n",
    "#Create the histogram using Matplotlib\n",
    "plt.figure(figsize=(7,5))\n",
    "plt.bar(duration_histogram_df.index, duration_histogram_df['Count'], color='#FFC2C4')\n",
    "\n",
    "#Set the title and axis labels\n",
    "plt.title('Durations from rental start until return')\n",
    "plt.xlabel('Duration in Minutes')\n",
    "plt.ylabel('Rentals')\n",
    "\n",
    "#Set the x-axis tick labels to the bin labels\n",
    "plt.xticks(rotation=45, ha='right')\n",
    "\n",
    "#Show the plot\n",
    "plot = plt.plot()"
   ]
  },
  {
   "cell_type": "code",
   "execution_count": null,
   "metadata": {},
   "outputs": [],
   "source": []
  },
  {
   "cell_type": "markdown",
   "metadata": {},
   "source": [
    "Überlegung über DURATION < 0 / = 0 / > 1 Tag"
   ]
  },
  {
   "cell_type": "code",
   "execution_count": null,
   "metadata": {},
   "outputs": [],
   "source": [
    "#DataFrame 2020-2023\n",
    "df20 = df[df['STARTTIME'].dt.year == 2020].copy()\n",
    "df21 = df[df['STARTTIME'].dt.year == 2021].copy()\n",
    "df22 = df[df['STARTTIME'].dt.year == 2022].copy()\n",
    "df23 = df[df['STARTTIME'].dt.year == 2023].copy()"
   ]
  },
  {
   "cell_type": "code",
   "execution_count": null,
   "metadata": {},
   "outputs": [],
   "source": [
    "#Fahrtdauer in Minuten berechnen & runden \n",
    "df20['DURATION_MIN'] = np.round((df['DURATION']).dt.total_seconds() / 60)\n",
    "df21['DURATION_MIN'] = np.round((df['DURATION']).dt.total_seconds() / 60)\n",
    "df22['DURATION_MIN'] = np.round((df['DURATION']).dt.total_seconds() / 60)\n",
    "df23['DURATION_MIN'] = np.round((df['DURATION']).dt.total_seconds() / 60)\n",
    "#df20['DURATION_MIN'].describe()"
   ]
  },
  {
   "cell_type": "code",
   "execution_count": null,
   "metadata": {},
   "outputs": [
    {
     "name": "stdout",
     "output_type": "stream",
     "text": [
      "duration_negative_count: 0\n",
      "duration_zero_count: 1404\n"
     ]
    }
   ],
   "source": [
    "#DURATION_MIN <= 0\n",
    "duration_negative_count = df20[df20['DURATION_MIN'] < 0].shape[0]\n",
    "print(f\"duration_negative_count: {duration_negative_count}\")\n",
    "\n",
    "duration_zero_count = df20[df20['DURATION_MIN'] == 0].shape[0]\n",
    "print(f\"duration_zero_count: {duration_zero_count}\")\n",
    "\n",
    "#df20\n",
    "#2020 (< 0): 7; (= 0): 1404; Total 1411\n",
    "#2021 (< 0): 14; (= 0): 1123; Total 1137\n",
    "#2022 (< 0): 22; (= 0): 866; Total 888\n",
    "#2023 (< 0): 14; (= 0): 670; Total 684"
   ]
  },
  {
   "cell_type": "code",
   "execution_count": null,
   "metadata": {},
   "outputs": [
    {
     "name": "stdout",
     "output_type": "stream",
     "text": [
      "duration_overday_count: 1040\n"
     ]
    }
   ],
   "source": [
    "#DURATION_MIN > 1440\n",
    "duration_overday_count = df20[df20['DURATION_MIN'] > 1440].shape[0]\n",
    "print(f\"duration_overday_count: {duration_overday_count}\")\n",
    "\n",
    "#2020 (> 1440) 1040\n",
    "#2021 (> 1440) 1359\n",
    "#2022 (> 1440) 2154\n",
    "#2023 (> 1440) 1303"
   ]
  },
  {
   "cell_type": "code",
   "execution_count": null,
   "metadata": {},
   "outputs": [],
   "source": []
  },
  {
   "cell_type": "markdown",
   "metadata": {},
   "source": [
    "Funktion-Backup & calculate_distance_km"
   ]
  },
  {
   "cell_type": "code",
   "execution_count": null,
   "metadata": {},
   "outputs": [],
   "source": [
    "#2 Funktion Leerzeichenentfernung (Columns & RENTAL_STATION_NAME & RETURN_STATION_NAME)\n",
    "def remove_space(string: str) -> str:\n",
    "    if isinstance(string, str):\n",
    "        return string.strip()\n",
    "    else:\n",
    "        return string"
   ]
  },
  {
   "cell_type": "code",
   "execution_count": null,
   "metadata": {},
   "outputs": [],
   "source": [
    "#5 Funktion\n",
    "def to_datetime(df: pd.DataFrame, column_start: str = \"STARTTIME\", column_end: str = \"ENDTIME\") -> pd.DataFrame:\n",
    "    #> datetime; ungültige Einträge: NaT \n",
    "    df[column_start] = pd.to_datetime(df[column_start], errors='coerce')\n",
    "    df[column_end] = pd.to_datetime(df[column_end], errors='coerce')\n",
    "\n",
    "    return df"
   ]
  },
  {
   "cell_type": "code",
   "execution_count": null,
   "metadata": {},
   "outputs": [],
   "source": [
    "# Funktion zur Entfernung von Datetime\n",
    "def remove_invalid_datetime(df: pd.DataFrame, column_start: str = \"STARTTIME\", column_end: str = \"ENDTIME\") -> pd.DataFrame:\n",
    "    \"\"\"\n",
    "    Removes invalid (STARTTIME and ENDTIME)\n",
    "\n",
    "    Parameters:\n",
    "    -df(pd.DataFrame): Input DataFrame.\n",
    "    -column_start(str): Name of column for start time.\n",
    "    -column_end(str): Name of column for end time.\n",
    "\n",
    "    Returns:\n",
    "    pd.DataFrame: Cleaned DataFrame with validated dates.\n",
    "    \"\"\"\n",
    "    #Entferne Zeilen, bei denen ENDTIME < STARTTIME oder einer von beiden NaT ist\n",
    "    df = df[df[column_end] >= df[column_start]]\n",
    "    df = df.dropna(subset=[column_start, column_end])\n",
    "\n",
    "    return df"
   ]
  },
  {
   "cell_type": "code",
   "execution_count": null,
   "metadata": {},
   "outputs": [],
   "source": [
    "# Mit geopandas für coordinates-km conversion\n",
    "import geopandas as gpd\n",
    "\n",
    "def calculate_distance_km(df: pd.DataFrame) -> gpd.GeoDataFrame:\n",
    "    \"\"\"\n",
    "    Adds geospatial points and calculates distances between them in kilometers.\n",
    "\n",
    "    Parameters:\n",
    "    df(pd.DataFrame): DataFrame with columns 'STARTLON', 'STARTLAT', 'ENDLON', 'ENDLAT'.\n",
    "\n",
    "    Returns:\n",
    "    gpd.GeoDataFrame: a GeoDataFrame column 'DISTANCE_KM'.\n",
    "    \"\"\"\n",
    "    # Geometrien hinzufügen\n",
    "    df['START_POINT'] = gpd.points_from_xy(df['STARTLON'], df['STARTLAT'])\n",
    "    df['END_POINT'] = gpd.points_from_xy(df['ENDLON'], df['ENDLAT'])\n",
    "\n",
    "    # Konvertiere den DataFrame zu einem GeoDataFrame\n",
    "    gdf = gpd.GeoDataFrame(df, geometry='START_POINT')\n",
    "\n",
    "    # CRS auf WGS 84 setzen und in ein metrisches CRS transformieren\n",
    "    gdf = gdf.set_crs(epsg=4326)  # WGS 84\n",
    "    gdf = gdf.to_crs(epsg=3857)   # Meter-Projektion\n",
    "\n",
    "    # Distanzen berechnen (in Metern) und in Kilometer umrechnen\n",
    "    gdf['DISTANCE_KM'] = gdf.apply(lambda row: row['START_POINT'].distance(row['END_POINT']) / 1000, axis=1)\n",
    "\n",
    "    return gdf[['DISTANCE_KM']]"
   ]
  }
 ],
 "metadata": {
  "kernelspec": {
   "display_name": "base",
   "language": "python",
   "name": "python3"
  },
  "language_info": {
   "codemirror_mode": {
    "name": "ipython",
    "version": 3
   },
   "file_extension": ".py",
   "mimetype": "text/x-python",
   "name": "python",
   "nbconvert_exporter": "python",
   "pygments_lexer": "ipython3",
   "version": "3.12.4"
  }
 },
 "nbformat": 4,
 "nbformat_minor": 2
}
