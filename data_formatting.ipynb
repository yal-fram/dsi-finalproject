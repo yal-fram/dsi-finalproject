{
 "cells": [
  {
   "cell_type": "markdown",
   "metadata": {},
   "source": [
    "### Data Preprocessing"
   ]
  },
  {
   "cell_type": "code",
   "execution_count": 14,
   "metadata": {},
   "outputs": [],
   "source": [
    "import numpy as np"
   ]
  },
  {
   "cell_type": "code",
   "execution_count": null,
   "metadata": {},
   "outputs": [],
   "source": [
    "# Funktion, um Leerzeichen zu entfernen\n",
    "# Funktion zur Formatierung von Daten\n",
    "# Funktion zur Formatierung der Location\n",
    "# Funktion zur Formatierung von IS_STATION"
   ]
  },
  {
   "cell_type": "code",
<<<<<<< HEAD
   "execution_count": 17,
   "metadata": {},
   "outputs": [
    {
     "name": "stdout",
     "output_type": "stream",
     "text": [
      "48.14085 <class 'float'>\n",
      "11.59721 <class 'float'>\n",
      "11.51174 <class 'float'>\n"
     ]
    }
   ],
   "source": [
    "# Funktion zur Formatierung der Location\n",
    "\n",
    "def format_coordinate(coordinate:str) -> float:\n",
    "    \"\"\"Takes unformatted longitudinal or latitudinal data and returns them as float.\n",
    "\n",
    "    Args:\n",
    "        coordinate (str): longitudinal or latitudinal data, unformatted\n",
    "\n",
    "    Returns:\n",
    "        float: longitudinal or latitudinal data as float\n",
    "    \"\"\"\n",
    "    if type(coordinate) == str:\n",
    "        coordinate = coordinate.strip()\n",
    "        if \",\" in coordinate:\n",
    "            coordinate = coordinate.replace(\",\", \".\")\n",
    "    \n",
    "    return float(coordinate)\n",
    "\n",
    "\n",
    "# Test\n",
    "print(format_coordinate(48.14085), type(format_coordinate(48.14085)))\n",
    "print(format_coordinate(\"11.59721\t\"), type(format_coordinate(\"11.59721\t\")))\n",
    "print(format_coordinate(\"11,51174\"), type(format_coordinate(\"11,51174\")))\n"
   ]
  },
  {
   "cell_type": "code",
   "execution_count": null,
   "metadata": {},
   "outputs": [
    {
     "name": "stdout",
     "output_type": "stream",
     "text": [
      "1 <class 'int'>\n",
      "0 <class 'int'>\n",
      "nan <class 'float'>\n",
      "Formatierung nicht möglich, Input prüfen.\n",
      "Formatierung nicht möglich, Input prüfen.\n",
      "nan <class 'float'>\n",
      "nan <class 'float'>\n"
     ]
    }
   ],
   "source": [
    "# Funktion zur Formatierung von IS_STATION\n",
    "\n",
    "def format_is_station(value:str) -> int:\n",
    "    \"\"\"Removes Spaces and casts string into boolean integer, if necessary. Returns NaN for empty string and all numbers, that are not 0 or 1.\n",
    "\n",
    "    Args:\n",
    "        value (str): String with number in it or empty string\n",
    "\n",
    "    Returns:\n",
    "        int / nan: 0 or 1 if that number in string, nan if empty string or number not 0 or 1\n",
    "    \"\"\"\n",
    "    if type(value) == str:\n",
    "        if value.strip() == \"\":\n",
    "            return np.nan\n",
    "        try:\n",
    "            value = int(value.strip())\n",
    "        except ValueError:\n",
    "            print(\"Formatierung nicht möglich, Input prüfen.\")\n",
    "    if value not in [0, 1]:\n",
    "        return np.nan\n",
    "    return value\n",
    "\n",
    "\n",
    "# Test\n",
    "print(format_is_station(\"1    \"), type(format_is_station(\"1    \")))\n",
    "print(format_is_station(\"0\"), type(format_is_station(\"0\")))\n",
    "print(format_is_station(12), type(format_is_station(12)))\n",
    "print(format_is_station(\"eins\"), type(format_is_station(\"eins\")))\n",
    "print(format_is_station(\"   \"), type(format_is_station(\"   \")))"
=======
   "execution_count": null,
   "metadata": {},
   "outputs": [],
   "source": [
    "# Funktion zur Formatierung von Datetime\n",
    "def to_datetime(df, column_start=\"STARTTIME\", column_end=\"ENDTIME\"):\n",
    "    #> datetime; ungültige Einträge: NaT \n",
    "    df[column_start] = pd.to_datetime(df[column_start], errors='coerce')\n",
    "    df[column_end] = pd.to_datetime(df[column_end], errors='coerce')\n",
    "\n",
    "    return df"
>>>>>>> 1829ef15374aa3bc9e2bc415e2a6b306a5b7413f
   ]
  },
  {
   "cell_type": "code",
   "execution_count": null,
   "metadata": {},
   "outputs": [],
<<<<<<< HEAD
   "source": []
  },
  {
   "cell_type": "code",
   "execution_count": null,
   "metadata": {},
   "outputs": [],
   "source": []
=======
   "source": [
    "# Funktion zur Entfernung von Datetime\n",
    "def remove_unvalid_datetime(df, column_start=\"STARTTIME\", column_end=\"ENDTIME\"):\n",
    "    #Entferne Zeilen, bei denen ENDTIME < STARTTIME oder einer von beiden NaT ist\n",
    "    df = df[df[column_end] >= df[column_start]]\n",
    "    df = df.dropna(subset=[column_start, column_end])\n",
    "\n",
    "    return df"
   ]
>>>>>>> 1829ef15374aa3bc9e2bc415e2a6b306a5b7413f
  }
 ],
 "metadata": {
  "kernelspec": {
   "display_name": "ml-cenv",
   "language": "python",
   "name": "python3"
  },
  "language_info": {
   "codemirror_mode": {
    "name": "ipython",
    "version": 3
   },
   "file_extension": ".py",
   "mimetype": "text/x-python",
   "name": "python",
   "nbconvert_exporter": "python",
   "pygments_lexer": "ipython3",
   "version": "3.13.0"
  }
 },
 "nbformat": 4,
 "nbformat_minor": 2
}
