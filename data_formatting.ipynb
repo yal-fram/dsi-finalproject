{
 "cells": [
  {
   "cell_type": "markdown",
   "metadata": {},
   "source": [
    "### Data Preprocessing"
   ]
  },
  {
   "cell_type": "code",
   "execution_count": null,
   "metadata": {},
   "outputs": [],
   "source": [
    "# Funktion, um Leerzeichen zu entfernen\n",
    "# Funktion zur Formatierung von Daten\n",
    "# Funktion zur Formatierung der Location\n",
    "# Funktion zur Formatierung von IS_STATION"
   ]
  },
  {
   "cell_type": "code",
   "execution_count": null,
   "metadata": {},
   "outputs": [],
   "source": [
    "# Funktion, um Leerzeichen zu entfernen\n",
    "\"\"\"\n",
    "Removes spaces from a string.\n",
    "\n",
    "Parameters:\n",
    "-string (str): The input value to process.\n",
    "\n",
    "Returns:\n",
    "str: A String without spaces.\n",
    "\"\"\"\n",
    "def remove_space(string: str) -> str:\n",
    "    if isinstance(string, str):\n",
    "        return string.strip()\n",
    "    else:\n",
    "        return string"
   ]
  },
  {
   "cell_type": "code",
   "execution_count": null,
   "metadata": {},
   "outputs": [],
   "source": [
    "# Funktion zur Formatierung von Datetime\n",
    "\"\"\"\n",
    "Converts STARTTIME and ENDTIME to datetime.\n",
    "\n",
    "Parameters:\n",
    "-df(pd.DataFrame): Input DataFrame.\n",
    "-column_start(str): Name of column for start time.\n",
    "-column_end(str): Name of column for end time.\n",
    "\n",
    "Returns:\n",
    "pd.DataFrame: Cleaned DataFrame with validated dates.\n",
    "\"\"\"\n",
    "def to_datetime(df, column_start=\"STARTTIME\", column_end=\"ENDTIME\"):\n",
    "    #> datetime; ungültige Einträge: NaT \n",
    "    df[column_start] = pd.to_datetime(df[column_start], errors='coerce')\n",
    "    df[column_end] = pd.to_datetime(df[column_end], errors='coerce')\n",
    "\n",
    "    return df"
   ]
  },
  {
   "cell_type": "code",
   "execution_count": null,
   "metadata": {},
   "outputs": [],
   "source": [
    "# Funktion zur Entfernung von Datetime\n",
    "\"\"\"\n",
    "Removes invalid (STARTTIME and ENDTIME)\n",
    "\n",
    "Parameters:\n",
    "-df(pd.DataFrame): Input DataFrame.\n",
    "-column_start(str): Name of column for start time.\n",
    "-column_end(str): Name of column for end time.\n",
    "\n",
    "Returns:\n",
    "pd.DataFrame: Cleaned DataFrame with validated dates.\n",
    "\"\"\"\n",
    "def remove_invalid_datetime(df, column_start=\"STARTTIME\", column_end=\"ENDTIME\"):\n",
    "    #Entferne Zeilen, bei denen ENDTIME < STARTTIME oder einer von beiden NaT ist\n",
    "    df = df[df[column_end] >= df[column_start]]\n",
    "    df = df.dropna(subset=[column_start, column_end])\n",
    "\n",
    "    return df"
   ]
  }
 ],
 "metadata": {
  "language_info": {
   "name": "python"
  }
 },
 "nbformat": 4,
 "nbformat_minor": 2
}
