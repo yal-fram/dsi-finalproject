{
 "cells": [
  {
   "cell_type": "markdown",
   "metadata": {},
   "source": [
    "### Data Preprocessing"
   ]
  },
  {
   "cell_type": "code",
   "execution_count": null,
   "metadata": {},
   "outputs": [],
   "source": [
    "# Funktion, um Leerzeichen zu entfernen\n",
    "# Funktion zur Formatierung von Daten\n",
    "# Funktion zur Formatierung der Location\n",
    "# Funktion zur Formatierung von IS_STATION"
   ]
  },
  {
   "cell_type": "code",
   "execution_count": null,
   "metadata": {},
   "outputs": [],
   "source": [
    "# Funktion, um Leerzeichen zu entfernen\n",
    "\"\"\"\n",
    "Removes spaces from a string.\n",
    "\n",
    "Parameters:\n",
    "-string (str): The input value to process.\n",
    "\n",
    "Returns:\n",
    "str: A String without spaces.\n",
    "\"\"\"\n",
    "def remove_space(string: str) -> str:\n",
    "    if isinstance(string, str):\n",
    "        return string.strip()\n",
    "    else:\n",
    "        return string"
   ]
  },
  {
   "cell_type": "code",
   "execution_count": null,
   "metadata": {},
   "outputs": [],
   "source": [
    "# Funktion zur Formatierung von Datetime\n",
    "\"\"\"\n",
    "Converts STARTTIME and ENDTIME to datetime.\n",
    "\n",
    "Parameters:\n",
    "-df(pd.DataFrame): Input DataFrame.\n",
    "-column_start(str): Name of column for start time.\n",
    "-column_end(str): Name of column for end time.\n",
    "\n",
    "Returns:\n",
    "pd.DataFrame: Cleaned DataFrame with validated dates.\n",
    "\"\"\"\n",
    "def to_datetime(df, column_start=\"STARTTIME\", column_end=\"ENDTIME\"):\n",
    "    #> datetime; ungültige Einträge: NaT \n",
    "    df[column_start] = pd.to_datetime(df[column_start], errors='coerce')\n",
    "    df[column_end] = pd.to_datetime(df[column_end], errors='coerce')\n",
    "\n",
    "    return df"
   ]
  },
  {
   "cell_type": "code",
   "execution_count": null,
   "metadata": {},
   "outputs": [],
   "source": [
    "# Funktion zur Entfernung von Datetime\n",
    "\"\"\"\n",
    "Removes invalid (STARTTIME and ENDTIME)\n",
    "\n",
    "Parameters:\n",
    "-df(pd.DataFrame): Input DataFrame.\n",
    "-column_start(str): Name of column for start time.\n",
    "-column_end(str): Name of column for end time.\n",
    "\n",
    "Returns:\n",
    "pd.DataFrame: Cleaned DataFrame with validated dates.\n",
    "\"\"\"\n",
    "def remove_invalid_datetime(df, column_start=\"STARTTIME\", column_end=\"ENDTIME\"):\n",
    "    #Entferne Zeilen, bei denen ENDTIME < STARTTIME oder einer von beiden NaT ist\n",
    "    df = df[df[column_end] >= df[column_start]]\n",
    "    df = df.dropna(subset=[column_start, column_end])\n",
    "\n",
    "    return df"
   ]
  },
  {
   "cell_type": "code",
   "execution_count": null,
   "metadata": {},
   "outputs": [],
   "source": [
    "# Funktion zur Formatierung der Koordinaten\n",
    "\n",
    "\n",
    "def format_coordinate(coordinate:str) -> float:\n",
    "    \"\"\"Takes unformatted longitudinal or latitudinal data and returns them as float. Sets un-float-able values to NA.\n",
    "\n",
    "    Args:\n",
    "        coordinate (str): longitudinal or latitudinal data, unformatted\n",
    "\n",
    "    Returns:\n",
    "        float: longitudinal or latitudinal data as float, or NA\n",
    "    \"\"\"\n",
    "    if type(coordinate) == str:\n",
    "        coordinate = coordinate.strip()\n",
    "        if \",\" in coordinate:\n",
    "            coordinate = coordinate.replace(\",\", \".\")\n",
    "    if coordinate == \"\":\n",
    "        return pd.NA\n",
    "    try:\n",
    "        coordinate = float(coordinate)\n",
    "    except ValueError:\n",
    "        print(f\"Formatierung nicht möglich, setze Wert auf NA: {coordinate}\")\n",
    "        coordinate = pd.NA\n",
    "    \n",
    "    return coordinate"
   ]
  },
  {
   "cell_type": "code",
   "execution_count": null,
   "metadata": {},
   "outputs": [],
   "source": [
    "# Plausibilitätsprüfung Koordinaten\n",
    "\n",
    "\n",
    "def remove_invalid_latitudes(lat:float) -> float:\n",
    "    \"\"\"Sets invalid latitudes to NA. 'Invalid' is defined by spatial dimension of Munich and surroundings, i.e. max latitudinal data of the city's S-train network.\n",
    "\n",
    "    Args:\n",
    "        coordinate (float): latitudinal data, formatted as float\n",
    "\n",
    "    Returns:\n",
    "        float: nan for invalid coordinate value\n",
    "    \"\"\"\n",
    "    if lat < 47.8 or lat > 48.5:\n",
    "        return np.nan\n",
    "    else:\n",
    "        return lat\n",
    "\n",
    "\n",
    "def remove_invalid_longitudes(lon:float) -> float:\n",
    "    \"\"\"Sets invalid longitudes to NA. 'Invalid' is defined by spatial dimension of Munich and surroundings, i.e. max longitudinal data of the city's S-train network.\n",
    "\n",
    "    Args:\n",
    "        coordinate (float): longitudinal data, formatted as float\n",
    "\n",
    "    Returns:\n",
    "        float: nan for invalid coordinate value\n",
    "    \"\"\"\n",
    "    if lon < 11.1 or lon > 12:\n",
    "        return np.nan\n",
    "    else:\n",
    "        return lon"
   ]
  },
  {
   "cell_type": "code",
   "execution_count": null,
   "metadata": {},
   "outputs": [],
   "source": [
    "# Funktion zur Formatierung von IS_STATION\n",
    "\n",
    "\n",
    "def format_is_station(value:str) -> int:\n",
    "    \"\"\"Removes Spaces and casts string into boolean integer, if necessary. Returns NA for empty string and all numbers, that are not 0 or 1.\n",
    "\n",
    "    Args:\n",
    "        value (str): String with number in it or empty string\n",
    "\n",
    "    Returns:\n",
    "        int / nan: 0 or 1 if that number in string, NA if empty string or number not 0 or 1\n",
    "    \"\"\"\n",
    "    if type(value) == str:\n",
    "        if value.strip() == \"\":\n",
    "            return pd.NA\n",
    "        try:\n",
    "            value = int(value.strip())\n",
    "        except ValueError:\n",
    "            print(f\"Formatierung nicht möglich, setze Wert auf NA: {value}\")\n",
    "            value = 2\n",
    "    if value not in [0, 1]:\n",
    "        return pd.NA\n",
    "    return value"
   ]
  }
 ],
 "metadata": {
  "language_info": {
   "name": "python"
  }
 },
 "nbformat": 4,
 "nbformat_minor": 2
}
