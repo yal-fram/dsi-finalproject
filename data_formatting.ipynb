{
 "cells": [
  {
   "cell_type": "markdown",
   "metadata": {},
   "source": [
    "### Data Preprocessing"
   ]
  },
  {
   "cell_type": "code",
   "execution_count": null,
   "metadata": {},
   "outputs": [],
   "source": [
    "# Funktion, um Leerzeichen zu entfernen\n",
    "# Funktion zur Formatierung von Daten\n",
    "# Funktion zur Formatierung der Location\n",
    "# Funktion zur Formatierung von IS_STATION"
   ]
  },
  {
   "cell_type": "code",
<<<<<<< HEAD
   "execution_count": null,
=======
   "execution_count": 17,
>>>>>>> f5904fcb04c088ee4c7200747a26bfd881ee4b83
   "metadata": {},
   "outputs": [],
   "source": [
    "# Funktion, um Leerzeichen zu entfernen\n",
    "\"\"\"\n",
    "Removes spaces from a string.\n",
    "Coverts non-string inputs to strings.\n",
    "\n",
    "Parameters:\n",
    "-string (str): The input value to process.\n",
    "\n",
    "Returns:\n",
    "str: A String without spaces.\n",
    "\"\"\"\n",
    "def remove_space(string: str) -> str:\n",
    "    if isinstance(string, str):\n",
    "        return string.strip()\n",
    "    else:\n",
    "        return string"
   ]
  },
  {
   "cell_type": "code",
   "execution_count": null,
   "metadata": {},
<<<<<<< HEAD
   "outputs": [],
   "source": [
    "# Funktion zur Formatierung von Datetime\n",
    "\"\"\"\n",
    "Converts STARTTIME and ENDTIME to datetime.\n",
    "\n",
    "Parameters:\n",
    "-df(pd.DataFrame): Input DataFrame.\n",
    "-column_start(str): Name of column for start time.\n",
    "-column_end(str): Name of column for end time.\n",
    "\n",
    "Returns:\n",
    "pd.DataFrame: Cleaned DataFrame with validated dates.\n",
    "\"\"\"\n",
    "def to_datetime(df, column_start=\"STARTTIME\", column_end=\"ENDTIME\"):\n",
    "    #> datetime; ungültige Einträge: NaT \n",
    "    df[column_start] = pd.to_datetime(df[column_start], errors='coerce')\n",
    "    df[column_end] = pd.to_datetime(df[column_end], errors='coerce')\n",
    "\n",
    "    return df"
=======
   "outputs": [
    {
     "name": "stdout",
     "output_type": "stream",
     "text": [
      "1 <class 'int'>\n",
      "0 <class 'int'>\n",
      "nan <class 'float'>\n",
      "Formatierung nicht möglich, Input prüfen.\n",
      "Formatierung nicht möglich, Input prüfen.\n",
      "nan <class 'float'>\n",
      "nan <class 'float'>\n"
     ]
    }
   ],
   "source": [
    "# Funktion zur Formatierung von IS_STATION\n",
    "\n",
    "def format_is_station(value:str) -> int:\n",
    "    \"\"\"Removes Spaces and casts string into boolean integer, if necessary. Returns NaN for empty string and all numbers, that are not 0 or 1.\n",
    "\n",
    "    Args:\n",
    "        value (str): String with number in it or empty string\n",
    "\n",
    "    Returns:\n",
    "        int / nan: 0 or 1 if that number in string, nan if empty string or number not 0 or 1\n",
    "    \"\"\"\n",
    "    if type(value) == str:\n",
    "        if value.strip() == \"\":\n",
    "            return np.nan\n",
    "        try:\n",
    "            value = int(value.strip())\n",
    "        except ValueError:\n",
    "            print(\"Formatierung nicht möglich, Input prüfen.\")\n",
    "    if value not in [0, 1]:\n",
    "        return np.nan\n",
    "    return value\n",
    "\n",
    "\n",
    "# Test\n",
    "print(format_is_station(\"1    \"), type(format_is_station(\"1    \")))\n",
    "print(format_is_station(\"0\"), type(format_is_station(\"0\")))\n",
    "print(format_is_station(12), type(format_is_station(12)))\n",
    "print(format_is_station(\"eins\"), type(format_is_station(\"eins\")))\n",
    "print(format_is_station(\"   \"), type(format_is_station(\"   \")))"
>>>>>>> f5904fcb04c088ee4c7200747a26bfd881ee4b83
   ]
  },
  {
   "cell_type": "code",
   "execution_count": null,
   "metadata": {},
   "outputs": [],
<<<<<<< HEAD
   "source": [
    "# Funktion zur Entfernung von Datetime\n",
    "\"\"\"\n",
    "Removes invalid (STARTTIME and ENDTIME)\n",
    "\n",
    "Parameters:\n",
    "-df(pd.DataFrame): Input DataFrame.\n",
    "-column_start(str): Name of column for start time.\n",
    "-column_end(str): Name of column for end time.\n",
    "\n",
    "Returns:\n",
    "pd.DataFrame: Cleaned DataFrame with validated dates.\n",
    "\"\"\"\n",
    "def remove_invalid_datetime(df, column_start=\"STARTTIME\", column_end=\"ENDTIME\"):\n",
    "    #Entferne Zeilen, bei denen ENDTIME < STARTTIME oder einer von beiden NaT ist\n",
    "    df = df[df[column_end] >= df[column_start]]\n",
    "    df = df.dropna(subset=[column_start, column_end])\n",
    "\n",
    "    return df"
   ]
=======
   "source": []
  },
  {
   "cell_type": "code",
   "execution_count": null,
   "metadata": {},
   "outputs": [],
   "source": []
>>>>>>> f5904fcb04c088ee4c7200747a26bfd881ee4b83
  }
 ],
 "metadata": {
  "language_info": {
   "name": "python"
  }
 },
 "nbformat": 4,
 "nbformat_minor": 2
}
